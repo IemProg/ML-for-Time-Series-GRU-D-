{
 "cells": [
  {
   "cell_type": "code",
   "execution_count": 20,
   "metadata": {
    "_cell_guid": "b1076dfc-b9ad-4769-8c92-a6c4dae69d19",
    "_kg_hide-input": true,
    "_uuid": "8f2839f25d086af736a60e9eeb907d3b93b6e0e5",
    "execution": {
     "iopub.execute_input": "2021-12-20T03:16:59.571139Z",
     "iopub.status.busy": "2021-12-20T03:16:59.569993Z",
     "iopub.status.idle": "2021-12-20T03:17:02.820767Z",
     "shell.execute_reply": "2021-12-20T03:17:02.821258Z",
     "shell.execute_reply.started": "2021-10-20T07:02:56.932766Z"
    },
    "papermill": {
     "duration": 3.299293,
     "end_time": "2021-12-20T03:17:02.82159",
     "exception": false,
     "start_time": "2021-12-20T03:16:59.522297",
     "status": "completed"
    },
    "tags": []
   },
   "outputs": [
    {
     "data": {
      "text/html": [
       "        <script type=\"text/javascript\">\n",
       "        window.PlotlyConfig = {MathJaxConfig: 'local'};\n",
       "        if (window.MathJax) {MathJax.Hub.Config({SVG: {font: \"STIX-Web\"}});}\n",
       "        if (typeof require !== 'undefined') {\n",
       "        require.undef(\"plotly\");\n",
       "        requirejs.config({\n",
       "            paths: {\n",
       "                'plotly': ['https://cdn.plot.ly/plotly-latest.min']\n",
       "            }\n",
       "        });\n",
       "        require(['plotly'], function(Plotly) {\n",
       "            window._Plotly = Plotly;\n",
       "        });\n",
       "        }\n",
       "        </script>\n",
       "        "
      ]
     },
     "metadata": {},
     "output_type": "display_data"
    },
    {
     "name": "stdout",
     "output_type": "stream",
     "text": [
      "['Outcomes-a.txt', 'sample_submission.csv', 'set-a', 'Test.csv', 'Test_data_dictionary.csv', 'Train.csv', 'Train_data_dictionary.csv']\n",
      "1648652188.5030515\n",
      "2022-03-30 16:56:28.504054\n"
     ]
    }
   ],
   "source": [
    "%matplotlib inline\n",
    "\n",
    "import numpy as np \n",
    "import pandas as pd \n",
    "\n",
    "import os, math, random\n",
    "from pathlib import Path\n",
    "\n",
    "from tqdm import tqdm\n",
    "from glob import glob\n",
    "import gc\n",
    "\n",
    "import seaborn as sns\n",
    "\n",
    "import matplotlib.pyplot as plt\n",
    "import seaborn as sns\n",
    "from IPython.display import display, HTML\n",
    "\n",
    "from plotly.offline import iplot\n",
    "#to link plotly to pandas\n",
    "import cufflinks as cf\n",
    "cf.go_offline()\n",
    "cf.set_config_file(offline = False, world_readable = True)\n",
    "\n",
    "plt.rcParams[\"figure.figsize\"] = (12, 10)\n",
    "plt.rcParams['axes.titlesize'] = 12\n",
    "sns.set_palette('Set3')\n",
    "   \n",
    "from time import time, strftime, gmtime\n",
    "\n",
    "print(os.listdir('./data/'))\n",
    "\n",
    "start = time()\n",
    "print(start)\n",
    "\n",
    "import datetime\n",
    "print(str(datetime.datetime.now()))\n",
    "\n",
    "import warnings\n",
    "warnings.simplefilter('ignore')"
   ]
  },
  {
   "cell_type": "code",
   "execution_count": 2,
   "metadata": {
    "execution": {
     "iopub.execute_input": "2021-12-20T03:17:02.915566Z",
     "iopub.status.busy": "2021-12-20T03:17:02.914896Z",
     "iopub.status.idle": "2021-12-20T03:17:02.917936Z",
     "shell.execute_reply": "2021-12-20T03:17:02.917469Z",
     "shell.execute_reply.started": "2021-10-20T05:48:46.250382Z"
    },
    "papermill": {
     "duration": 0.051811,
     "end_time": "2021-12-20T03:17:02.918069",
     "exception": false,
     "start_time": "2021-12-20T03:17:02.866258",
     "status": "completed"
    },
    "tags": []
   },
   "outputs": [],
   "source": [
    "SEED = 42\n",
    "def seed_everything(seed = SEED):\n",
    "    os.environ['PYTHONHASHSEED'] = str(seed)\n",
    "    np.random.seed(seed)\n",
    "    random.seed(seed)"
   ]
  },
  {
   "cell_type": "code",
   "execution_count": 3,
   "metadata": {
    "execution": {
     "iopub.execute_input": "2021-12-20T03:17:03.013833Z",
     "iopub.status.busy": "2021-12-20T03:17:03.01308Z",
     "iopub.status.idle": "2021-12-20T03:17:03.015775Z",
     "shell.execute_reply": "2021-12-20T03:17:03.015304Z",
     "shell.execute_reply.started": "2021-10-20T05:48:46.257275Z"
    },
    "papermill": {
     "duration": 0.053217,
     "end_time": "2021-12-20T03:17:03.01591",
     "exception": false,
     "start_time": "2021-12-20T03:17:02.962693",
     "status": "completed"
    },
    "tags": []
   },
   "outputs": [],
   "source": [
    "base_dir = './data/'"
   ]
  },
  {
   "cell_type": "code",
   "execution_count": 4,
   "metadata": {
    "execution": {
     "iopub.execute_input": "2021-12-20T03:17:03.109022Z",
     "iopub.status.busy": "2021-12-20T03:17:03.10845Z",
     "iopub.status.idle": "2021-12-20T03:17:03.253197Z",
     "shell.execute_reply": "2021-12-20T03:17:03.252661Z",
     "shell.execute_reply.started": "2021-10-20T05:48:46.268469Z"
    },
    "papermill": {
     "duration": 0.192353,
     "end_time": "2021-12-20T03:17:03.253356",
     "exception": false,
     "start_time": "2021-12-20T03:17:03.061003",
     "status": "completed"
    },
    "tags": []
   },
   "outputs": [
    {
     "name": "stdout",
     "output_type": "stream",
     "text": [
      "Num of training files: 4000\n"
     ]
    },
    {
     "data": {
      "text/plain": [
       "['./data/set-a\\\\132539.txt',\n",
       " './data/set-a\\\\132540.txt',\n",
       " './data/set-a\\\\132541.txt',\n",
       " './data/set-a\\\\132543.txt',\n",
       " './data/set-a\\\\132545.txt',\n",
       " './data/set-a\\\\132547.txt',\n",
       " './data/set-a\\\\132548.txt',\n",
       " './data/set-a\\\\132551.txt',\n",
       " './data/set-a\\\\132554.txt',\n",
       " './data/set-a\\\\132555.txt']"
      ]
     },
     "execution_count": 4,
     "metadata": {},
     "output_type": "execute_result"
    }
   ],
   "source": [
    "path_file = os.path.join(base_dir, \"set-a\", \"*.txt\")\n",
    "input_files = glob(path_file)\n",
    "print(f\"Num of training files: {len(input_files)}\")\n",
    "input_files[:10]"
   ]
  },
  {
   "cell_type": "markdown",
   "metadata": {
    "papermill": {
     "duration": 0.044144,
     "end_time": "2021-12-20T03:17:03.342271",
     "exception": false,
     "start_time": "2021-12-20T03:17:03.298127",
     "status": "completed"
    },
    "tags": []
   },
   "source": [
    "##### Outcomes.txt fields\n",
    "- RecordID (defined as above)\n",
    "- SAPS-I score (Le Gall et al., 1984)\n",
    "- SOFA score (Ferreira et al., 2001)\n",
    "- Length of stay (days)\n",
    "- Survival (days)\n",
    "- In-hospital death (0: survivor, or 1: died in-hospital)"
   ]
  },
  {
   "cell_type": "code",
   "execution_count": 5,
   "metadata": {
    "execution": {
     "iopub.execute_input": "2021-12-20T03:17:03.437998Z",
     "iopub.status.busy": "2021-12-20T03:17:03.437296Z",
     "iopub.status.idle": "2021-12-20T03:17:03.460759Z",
     "shell.execute_reply": "2021-12-20T03:17:03.461229Z",
     "shell.execute_reply.started": "2021-10-20T05:48:46.613219Z"
    },
    "papermill": {
     "duration": 0.074099,
     "end_time": "2021-12-20T03:17:03.461426",
     "exception": false,
     "start_time": "2021-12-20T03:17:03.387327",
     "status": "completed"
    },
    "tags": []
   },
   "outputs": [
    {
     "name": "stdout",
     "output_type": "stream",
     "text": [
      "(4000, 6)\n"
     ]
    },
    {
     "data": {
      "text/html": [
       "<div>\n",
       "<style scoped>\n",
       "    .dataframe tbody tr th:only-of-type {\n",
       "        vertical-align: middle;\n",
       "    }\n",
       "\n",
       "    .dataframe tbody tr th {\n",
       "        vertical-align: top;\n",
       "    }\n",
       "\n",
       "    .dataframe thead th {\n",
       "        text-align: right;\n",
       "    }\n",
       "</style>\n",
       "<table border=\"1\" class=\"dataframe\">\n",
       "  <thead>\n",
       "    <tr style=\"text-align: right;\">\n",
       "      <th></th>\n",
       "      <th>RecordID</th>\n",
       "      <th>SAPS-I</th>\n",
       "      <th>SOFA</th>\n",
       "      <th>Length_of_stay</th>\n",
       "      <th>Survival</th>\n",
       "      <th>In-hospital_death</th>\n",
       "    </tr>\n",
       "  </thead>\n",
       "  <tbody>\n",
       "    <tr>\n",
       "      <th>0</th>\n",
       "      <td>132539</td>\n",
       "      <td>6</td>\n",
       "      <td>1</td>\n",
       "      <td>5</td>\n",
       "      <td>-1</td>\n",
       "      <td>0</td>\n",
       "    </tr>\n",
       "    <tr>\n",
       "      <th>1</th>\n",
       "      <td>132540</td>\n",
       "      <td>16</td>\n",
       "      <td>8</td>\n",
       "      <td>8</td>\n",
       "      <td>-1</td>\n",
       "      <td>0</td>\n",
       "    </tr>\n",
       "    <tr>\n",
       "      <th>2</th>\n",
       "      <td>132541</td>\n",
       "      <td>21</td>\n",
       "      <td>11</td>\n",
       "      <td>19</td>\n",
       "      <td>-1</td>\n",
       "      <td>0</td>\n",
       "    </tr>\n",
       "    <tr>\n",
       "      <th>3</th>\n",
       "      <td>132543</td>\n",
       "      <td>7</td>\n",
       "      <td>1</td>\n",
       "      <td>9</td>\n",
       "      <td>575</td>\n",
       "      <td>0</td>\n",
       "    </tr>\n",
       "    <tr>\n",
       "      <th>4</th>\n",
       "      <td>132545</td>\n",
       "      <td>17</td>\n",
       "      <td>2</td>\n",
       "      <td>4</td>\n",
       "      <td>918</td>\n",
       "      <td>0</td>\n",
       "    </tr>\n",
       "  </tbody>\n",
       "</table>\n",
       "</div>"
      ],
      "text/plain": [
       "   RecordID  SAPS-I  SOFA  Length_of_stay  Survival  In-hospital_death\n",
       "0    132539       6     1               5        -1                  0\n",
       "1    132540      16     8               8        -1                  0\n",
       "2    132541      21    11              19        -1                  0\n",
       "3    132543       7     1               9       575                  0\n",
       "4    132545      17     2               4       918                  0"
      ]
     },
     "execution_count": 5,
     "metadata": {},
     "output_type": "execute_result"
    }
   ],
   "source": [
    "df_target = pd.read_csv(Path(base_dir) / \"Outcomes-a.txt\")\n",
    "print(df_target.shape)\n",
    "df_target.head()"
   ]
  },
  {
   "cell_type": "markdown",
   "metadata": {
    "papermill": {
     "duration": 0.044514,
     "end_time": "2021-12-20T03:17:03.551417",
     "exception": false,
     "start_time": "2021-12-20T03:17:03.506903",
     "status": "completed"
    },
    "tags": []
   },
   "source": [
    "##### First extract the data in txt files to a Dataframe"
   ]
  },
  {
   "cell_type": "code",
   "execution_count": 6,
   "metadata": {
    "_kg_hide-input": true,
    "execution": {
     "iopub.execute_input": "2021-12-20T03:17:03.644472Z",
     "iopub.status.busy": "2021-12-20T03:17:03.643844Z",
     "iopub.status.idle": "2021-12-20T03:17:03.647592Z",
     "shell.execute_reply": "2021-12-20T03:17:03.648065Z",
     "shell.execute_reply.started": "2021-10-20T05:48:46.634316Z"
    },
    "papermill": {
     "duration": 0.051983,
     "end_time": "2021-12-20T03:17:03.648223",
     "exception": false,
     "start_time": "2021-12-20T03:17:03.59624",
     "status": "completed"
    },
    "tags": []
   },
   "outputs": [],
   "source": [
    "features_to_use = [\"RecordID\", \"Age\", \"Gender\", \"Height\", \"Weight\", \"Urine\", \"HR\", \"Temp\", \"NIDiasABP\", \"SysABP\", \"DiasABP\", \"pH\", \n",
    "                   \"PaCO2\", \"PaO2\", \"Platelets\", \"MAP\", \"K\", \"Na\", \"FiO2\", \"GCS\", \"ICUType\"]"
   ]
  },
  {
   "cell_type": "code",
   "execution_count": 7,
   "metadata": {
    "execution": {
     "iopub.execute_input": "2021-12-20T03:17:03.740612Z",
     "iopub.status.busy": "2021-12-20T03:17:03.740015Z",
     "iopub.status.idle": "2021-12-20T03:17:03.757962Z",
     "shell.execute_reply": "2021-12-20T03:17:03.758503Z",
     "shell.execute_reply.started": "2021-10-20T05:48:46.966811Z"
    },
    "papermill": {
     "duration": 0.065598,
     "end_time": "2021-12-20T03:17:03.758675",
     "exception": false,
     "start_time": "2021-12-20T03:17:03.693077",
     "status": "completed"
    },
    "tags": []
   },
   "outputs": [
    {
     "data": {
      "text/html": [
       "<div>\n",
       "<style scoped>\n",
       "    .dataframe tbody tr th:only-of-type {\n",
       "        vertical-align: middle;\n",
       "    }\n",
       "\n",
       "    .dataframe tbody tr th {\n",
       "        vertical-align: top;\n",
       "    }\n",
       "\n",
       "    .dataframe thead th {\n",
       "        text-align: right;\n",
       "    }\n",
       "</style>\n",
       "<table border=\"1\" class=\"dataframe\">\n",
       "  <thead>\n",
       "    <tr style=\"text-align: right;\">\n",
       "      <th></th>\n",
       "      <th>Time</th>\n",
       "      <th>Parameter</th>\n",
       "      <th>Value</th>\n",
       "    </tr>\n",
       "  </thead>\n",
       "  <tbody>\n",
       "    <tr>\n",
       "      <th>0</th>\n",
       "      <td>00:00</td>\n",
       "      <td>RecordID</td>\n",
       "      <td>139595.0</td>\n",
       "    </tr>\n",
       "    <tr>\n",
       "      <th>1</th>\n",
       "      <td>00:00</td>\n",
       "      <td>Age</td>\n",
       "      <td>69.0</td>\n",
       "    </tr>\n",
       "    <tr>\n",
       "      <th>2</th>\n",
       "      <td>00:00</td>\n",
       "      <td>Gender</td>\n",
       "      <td>0.0</td>\n",
       "    </tr>\n",
       "    <tr>\n",
       "      <th>3</th>\n",
       "      <td>00:00</td>\n",
       "      <td>Height</td>\n",
       "      <td>-1.0</td>\n",
       "    </tr>\n",
       "    <tr>\n",
       "      <th>4</th>\n",
       "      <td>00:00</td>\n",
       "      <td>ICUType</td>\n",
       "      <td>4.0</td>\n",
       "    </tr>\n",
       "  </tbody>\n",
       "</table>\n",
       "</div>"
      ],
      "text/plain": [
       "    Time Parameter     Value\n",
       "0  00:00  RecordID  139595.0\n",
       "1  00:00       Age      69.0\n",
       "2  00:00    Gender       0.0\n",
       "3  00:00    Height      -1.0\n",
       "4  00:00   ICUType       4.0"
      ]
     },
     "execution_count": 7,
     "metadata": {},
     "output_type": "execute_result"
    }
   ],
   "source": [
    "# Check a single txt file\n",
    "temp = pd.read_csv(np.random.choice(input_files, 1)[0])\n",
    "temp.head()"
   ]
  },
  {
   "cell_type": "code",
   "execution_count": 8,
   "metadata": {
    "_kg_hide-input": true,
    "execution": {
     "iopub.execute_input": "2021-12-20T03:17:05.153204Z",
     "iopub.status.busy": "2021-12-20T03:17:05.152583Z",
     "iopub.status.idle": "2021-12-20T03:17:05.156842Z",
     "shell.execute_reply": "2021-12-20T03:17:05.157319Z",
     "shell.execute_reply.started": "2021-10-20T05:48:47.458646Z"
    },
    "papermill": {
     "duration": 0.064207,
     "end_time": "2021-12-20T03:17:05.157501",
     "exception": false,
     "start_time": "2021-12-20T03:17:05.093294",
     "status": "completed"
    },
    "tags": []
   },
   "outputs": [],
   "source": [
    "def extract_to_dict(df: pd.DataFrame, features: list) -> pd.DataFrame:\n",
    "    #Replace '-1' to NaNs\n",
    "    df = df.replace(-1.0, np.nan)\n",
    "    patient_dict = {}\n",
    "    for feat in features:\n",
    "        patient_dict[feat] = round(df[df['Parameter'] == feat]['Value'].mean(), 2)\n",
    "    return pd.DataFrame(patient_dict, index = [0])"
   ]
  },
  {
   "cell_type": "code",
   "execution_count": 9,
   "metadata": {
    "_kg_hide-input": true,
    "execution": {
     "iopub.execute_input": "2021-12-20T03:17:05.272223Z",
     "iopub.status.busy": "2021-12-20T03:17:05.271658Z",
     "iopub.status.idle": "2021-12-20T03:18:15.86102Z",
     "shell.execute_reply": "2021-12-20T03:18:15.861468Z",
     "shell.execute_reply.started": "2021-10-20T05:48:47.642446Z"
    },
    "papermill": {
     "duration": 70.648153,
     "end_time": "2021-12-20T03:18:15.861636",
     "exception": false,
     "start_time": "2021-12-20T03:17:05.213483",
     "status": "completed"
    },
    "tags": []
   },
   "outputs": [
    {
     "name": "stderr",
     "output_type": "stream",
     "text": [
      "100%|██████████████████████████████████████████████████████████████████████████████████████████████████████████████████████████████| 4000/4000 [00:49<00:00, 81.33it/s]"
     ]
    },
    {
     "name": "stdout",
     "output_type": "stream",
     "text": [
      "(4000, 21)\n"
     ]
    },
    {
     "name": "stderr",
     "output_type": "stream",
     "text": [
      "\n"
     ]
    },
    {
     "data": {
      "text/html": [
       "<div>\n",
       "<style scoped>\n",
       "    .dataframe tbody tr th:only-of-type {\n",
       "        vertical-align: middle;\n",
       "    }\n",
       "\n",
       "    .dataframe tbody tr th {\n",
       "        vertical-align: top;\n",
       "    }\n",
       "\n",
       "    .dataframe thead th {\n",
       "        text-align: right;\n",
       "    }\n",
       "</style>\n",
       "<table border=\"1\" class=\"dataframe\">\n",
       "  <thead>\n",
       "    <tr style=\"text-align: right;\">\n",
       "      <th></th>\n",
       "      <th>RecordID</th>\n",
       "      <th>Age</th>\n",
       "      <th>Gender</th>\n",
       "      <th>Height</th>\n",
       "      <th>Weight</th>\n",
       "      <th>Urine</th>\n",
       "      <th>HR</th>\n",
       "      <th>Temp</th>\n",
       "      <th>NIDiasABP</th>\n",
       "      <th>SysABP</th>\n",
       "      <th>...</th>\n",
       "      <th>pH</th>\n",
       "      <th>PaCO2</th>\n",
       "      <th>PaO2</th>\n",
       "      <th>Platelets</th>\n",
       "      <th>MAP</th>\n",
       "      <th>K</th>\n",
       "      <th>Na</th>\n",
       "      <th>FiO2</th>\n",
       "      <th>GCS</th>\n",
       "      <th>ICUType</th>\n",
       "    </tr>\n",
       "  </thead>\n",
       "  <tbody>\n",
       "    <tr>\n",
       "      <th>0</th>\n",
       "      <td>132539.0</td>\n",
       "      <td>54.0</td>\n",
       "      <td>0.0</td>\n",
       "      <td>NaN</td>\n",
       "      <td>NaN</td>\n",
       "      <td>171.05</td>\n",
       "      <td>70.81</td>\n",
       "      <td>37.36</td>\n",
       "      <td>50.15</td>\n",
       "      <td>NaN</td>\n",
       "      <td>...</td>\n",
       "      <td>NaN</td>\n",
       "      <td>NaN</td>\n",
       "      <td>NaN</td>\n",
       "      <td>203.00</td>\n",
       "      <td>NaN</td>\n",
       "      <td>4.20</td>\n",
       "      <td>136.50</td>\n",
       "      <td>NaN</td>\n",
       "      <td>14.92</td>\n",
       "      <td>4.0</td>\n",
       "    </tr>\n",
       "    <tr>\n",
       "      <th>0</th>\n",
       "      <td>132540.0</td>\n",
       "      <td>76.0</td>\n",
       "      <td>1.0</td>\n",
       "      <td>175.3</td>\n",
       "      <td>80.67</td>\n",
       "      <td>151.56</td>\n",
       "      <td>80.79</td>\n",
       "      <td>36.94</td>\n",
       "      <td>56.71</td>\n",
       "      <td>113.41</td>\n",
       "      <td>...</td>\n",
       "      <td>7.40</td>\n",
       "      <td>38.86</td>\n",
       "      <td>210.14</td>\n",
       "      <td>178.60</td>\n",
       "      <td>76.94</td>\n",
       "      <td>3.90</td>\n",
       "      <td>137.00</td>\n",
       "      <td>0.56</td>\n",
       "      <td>13.33</td>\n",
       "      <td>2.0</td>\n",
       "    </tr>\n",
       "    <tr>\n",
       "      <th>0</th>\n",
       "      <td>132541.0</td>\n",
       "      <td>44.0</td>\n",
       "      <td>0.0</td>\n",
       "      <td>NaN</td>\n",
       "      <td>56.70</td>\n",
       "      <td>124.95</td>\n",
       "      <td>83.76</td>\n",
       "      <td>37.80</td>\n",
       "      <td>79.00</td>\n",
       "      <td>125.69</td>\n",
       "      <td>...</td>\n",
       "      <td>7.49</td>\n",
       "      <td>35.50</td>\n",
       "      <td>134.50</td>\n",
       "      <td>89.67</td>\n",
       "      <td>90.44</td>\n",
       "      <td>4.26</td>\n",
       "      <td>138.33</td>\n",
       "      <td>0.50</td>\n",
       "      <td>5.92</td>\n",
       "      <td>3.0</td>\n",
       "    </tr>\n",
       "    <tr>\n",
       "      <th>0</th>\n",
       "      <td>132543.0</td>\n",
       "      <td>68.0</td>\n",
       "      <td>1.0</td>\n",
       "      <td>180.3</td>\n",
       "      <td>84.60</td>\n",
       "      <td>545.83</td>\n",
       "      <td>70.98</td>\n",
       "      <td>36.22</td>\n",
       "      <td>65.05</td>\n",
       "      <td>NaN</td>\n",
       "      <td>...</td>\n",
       "      <td>NaN</td>\n",
       "      <td>NaN</td>\n",
       "      <td>NaN</td>\n",
       "      <td>330.00</td>\n",
       "      <td>NaN</td>\n",
       "      <td>4.00</td>\n",
       "      <td>139.33</td>\n",
       "      <td>NaN</td>\n",
       "      <td>14.94</td>\n",
       "      <td>3.0</td>\n",
       "    </tr>\n",
       "    <tr>\n",
       "      <th>0</th>\n",
       "      <td>132545.0</td>\n",
       "      <td>88.0</td>\n",
       "      <td>0.0</td>\n",
       "      <td>NaN</td>\n",
       "      <td>NaN</td>\n",
       "      <td>62.13</td>\n",
       "      <td>74.96</td>\n",
       "      <td>36.88</td>\n",
       "      <td>45.72</td>\n",
       "      <td>NaN</td>\n",
       "      <td>...</td>\n",
       "      <td>NaN</td>\n",
       "      <td>NaN</td>\n",
       "      <td>NaN</td>\n",
       "      <td>103.00</td>\n",
       "      <td>NaN</td>\n",
       "      <td>4.32</td>\n",
       "      <td>139.50</td>\n",
       "      <td>NaN</td>\n",
       "      <td>15.00</td>\n",
       "      <td>3.0</td>\n",
       "    </tr>\n",
       "  </tbody>\n",
       "</table>\n",
       "<p>5 rows × 21 columns</p>\n",
       "</div>"
      ],
      "text/plain": [
       "   RecordID   Age  Gender  Height  Weight   Urine     HR   Temp  NIDiasABP  \\\n",
       "0  132539.0  54.0     0.0     NaN     NaN  171.05  70.81  37.36      50.15   \n",
       "0  132540.0  76.0     1.0   175.3   80.67  151.56  80.79  36.94      56.71   \n",
       "0  132541.0  44.0     0.0     NaN   56.70  124.95  83.76  37.80      79.00   \n",
       "0  132543.0  68.0     1.0   180.3   84.60  545.83  70.98  36.22      65.05   \n",
       "0  132545.0  88.0     0.0     NaN     NaN   62.13  74.96  36.88      45.72   \n",
       "\n",
       "   SysABP  ...    pH  PaCO2    PaO2  Platelets    MAP     K      Na  FiO2  \\\n",
       "0     NaN  ...   NaN    NaN     NaN     203.00    NaN  4.20  136.50   NaN   \n",
       "0  113.41  ...  7.40  38.86  210.14     178.60  76.94  3.90  137.00  0.56   \n",
       "0  125.69  ...  7.49  35.50  134.50      89.67  90.44  4.26  138.33  0.50   \n",
       "0     NaN  ...   NaN    NaN     NaN     330.00    NaN  4.00  139.33   NaN   \n",
       "0     NaN  ...   NaN    NaN     NaN     103.00    NaN  4.32  139.50   NaN   \n",
       "\n",
       "     GCS  ICUType  \n",
       "0  14.92      4.0  \n",
       "0  13.33      2.0  \n",
       "0   5.92      3.0  \n",
       "0  14.94      3.0  \n",
       "0  15.00      3.0  \n",
       "\n",
       "[5 rows x 21 columns]"
      ]
     },
     "execution_count": 9,
     "metadata": {},
     "output_type": "execute_result"
    }
   ],
   "source": [
    "df = pd.DataFrame()\n",
    "\n",
    "for file in tqdm(input_files):\n",
    "    temp = pd.read_csv(file)\n",
    "    df = df.append(extract_to_dict(temp, features_to_use))\n",
    "print(df.shape)\n",
    "df.head()"
   ]
  },
  {
   "cell_type": "markdown",
   "metadata": {
    "papermill": {
     "duration": 0.200246,
     "end_time": "2021-12-20T03:18:16.265541",
     "exception": false,
     "start_time": "2021-12-20T03:18:16.065295",
     "status": "completed"
    },
    "tags": []
   },
   "source": [
    "##### Merge train features with target"
   ]
  },
  {
   "cell_type": "code",
   "execution_count": 10,
   "metadata": {
    "execution": {
     "iopub.execute_input": "2021-12-20T03:18:16.676244Z",
     "iopub.status.busy": "2021-12-20T03:18:16.675559Z",
     "iopub.status.idle": "2021-12-20T03:18:16.687661Z",
     "shell.execute_reply": "2021-12-20T03:18:16.687144Z",
     "shell.execute_reply.started": "2021-10-20T05:49:55.943391Z"
    },
    "papermill": {
     "duration": 0.222007,
     "end_time": "2021-12-20T03:18:16.687825",
     "exception": false,
     "start_time": "2021-12-20T03:18:16.465818",
     "status": "completed"
    },
    "tags": []
   },
   "outputs": [
    {
     "data": {
      "text/plain": [
       "(4000, 22)"
      ]
     },
     "execution_count": 10,
     "metadata": {},
     "output_type": "execute_result"
    }
   ],
   "source": [
    "#we just need the In-hospital_death from the target df\n",
    "df = df.merge(df_target[['RecordID', 'In-hospital_death']], on = 'RecordID')\n",
    "df.shape"
   ]
  },
  {
   "cell_type": "code",
   "execution_count": 11,
   "metadata": {
    "execution": {
     "iopub.execute_input": "2021-12-20T03:18:17.152613Z",
     "iopub.status.busy": "2021-12-20T03:18:17.151982Z",
     "iopub.status.idle": "2021-12-20T03:18:17.241794Z",
     "shell.execute_reply": "2021-12-20T03:18:17.241124Z",
     "shell.execute_reply.started": "2021-10-20T05:49:55.961304Z"
    },
    "papermill": {
     "duration": 0.298118,
     "end_time": "2021-12-20T03:18:17.241952",
     "exception": false,
     "start_time": "2021-12-20T03:18:16.943834",
     "status": "completed"
    },
    "tags": []
   },
   "outputs": [
    {
     "data": {
      "text/html": [
       "<div>\n",
       "<style scoped>\n",
       "    .dataframe tbody tr th:only-of-type {\n",
       "        vertical-align: middle;\n",
       "    }\n",
       "\n",
       "    .dataframe tbody tr th {\n",
       "        vertical-align: top;\n",
       "    }\n",
       "\n",
       "    .dataframe thead th {\n",
       "        text-align: right;\n",
       "    }\n",
       "</style>\n",
       "<table border=\"1\" class=\"dataframe\">\n",
       "  <thead>\n",
       "    <tr style=\"text-align: right;\">\n",
       "      <th></th>\n",
       "      <th>RecordID</th>\n",
       "      <th>Age</th>\n",
       "      <th>Gender</th>\n",
       "      <th>Height</th>\n",
       "      <th>Weight</th>\n",
       "      <th>Urine</th>\n",
       "      <th>HR</th>\n",
       "      <th>Temp</th>\n",
       "      <th>NIDiasABP</th>\n",
       "      <th>SysABP</th>\n",
       "      <th>...</th>\n",
       "      <th>PaCO2</th>\n",
       "      <th>PaO2</th>\n",
       "      <th>Platelets</th>\n",
       "      <th>MAP</th>\n",
       "      <th>K</th>\n",
       "      <th>Na</th>\n",
       "      <th>FiO2</th>\n",
       "      <th>GCS</th>\n",
       "      <th>ICUType</th>\n",
       "      <th>In-hospital_death</th>\n",
       "    </tr>\n",
       "  </thead>\n",
       "  <tbody>\n",
       "    <tr>\n",
       "      <th>0</th>\n",
       "      <td>132539.0</td>\n",
       "      <td>54.0</td>\n",
       "      <td>0.0</td>\n",
       "      <td>NaN</td>\n",
       "      <td>NaN</td>\n",
       "      <td>171.05</td>\n",
       "      <td>70.81</td>\n",
       "      <td>37.36</td>\n",
       "      <td>50.15</td>\n",
       "      <td>NaN</td>\n",
       "      <td>...</td>\n",
       "      <td>NaN</td>\n",
       "      <td>NaN</td>\n",
       "      <td>203.00</td>\n",
       "      <td>NaN</td>\n",
       "      <td>4.20</td>\n",
       "      <td>136.50</td>\n",
       "      <td>NaN</td>\n",
       "      <td>14.92</td>\n",
       "      <td>4.0</td>\n",
       "      <td>0</td>\n",
       "    </tr>\n",
       "    <tr>\n",
       "      <th>1</th>\n",
       "      <td>132540.0</td>\n",
       "      <td>76.0</td>\n",
       "      <td>1.0</td>\n",
       "      <td>175.3</td>\n",
       "      <td>80.67</td>\n",
       "      <td>151.56</td>\n",
       "      <td>80.79</td>\n",
       "      <td>36.94</td>\n",
       "      <td>56.71</td>\n",
       "      <td>113.41</td>\n",
       "      <td>...</td>\n",
       "      <td>38.86</td>\n",
       "      <td>210.14</td>\n",
       "      <td>178.60</td>\n",
       "      <td>76.94</td>\n",
       "      <td>3.90</td>\n",
       "      <td>137.00</td>\n",
       "      <td>0.56</td>\n",
       "      <td>13.33</td>\n",
       "      <td>2.0</td>\n",
       "      <td>0</td>\n",
       "    </tr>\n",
       "    <tr>\n",
       "      <th>2</th>\n",
       "      <td>132541.0</td>\n",
       "      <td>44.0</td>\n",
       "      <td>0.0</td>\n",
       "      <td>NaN</td>\n",
       "      <td>56.70</td>\n",
       "      <td>124.95</td>\n",
       "      <td>83.76</td>\n",
       "      <td>37.80</td>\n",
       "      <td>79.00</td>\n",
       "      <td>125.69</td>\n",
       "      <td>...</td>\n",
       "      <td>35.50</td>\n",
       "      <td>134.50</td>\n",
       "      <td>89.67</td>\n",
       "      <td>90.44</td>\n",
       "      <td>4.26</td>\n",
       "      <td>138.33</td>\n",
       "      <td>0.50</td>\n",
       "      <td>5.92</td>\n",
       "      <td>3.0</td>\n",
       "      <td>0</td>\n",
       "    </tr>\n",
       "    <tr>\n",
       "      <th>3</th>\n",
       "      <td>132543.0</td>\n",
       "      <td>68.0</td>\n",
       "      <td>1.0</td>\n",
       "      <td>180.3</td>\n",
       "      <td>84.60</td>\n",
       "      <td>545.83</td>\n",
       "      <td>70.98</td>\n",
       "      <td>36.22</td>\n",
       "      <td>65.05</td>\n",
       "      <td>NaN</td>\n",
       "      <td>...</td>\n",
       "      <td>NaN</td>\n",
       "      <td>NaN</td>\n",
       "      <td>330.00</td>\n",
       "      <td>NaN</td>\n",
       "      <td>4.00</td>\n",
       "      <td>139.33</td>\n",
       "      <td>NaN</td>\n",
       "      <td>14.94</td>\n",
       "      <td>3.0</td>\n",
       "      <td>0</td>\n",
       "    </tr>\n",
       "    <tr>\n",
       "      <th>4</th>\n",
       "      <td>132545.0</td>\n",
       "      <td>88.0</td>\n",
       "      <td>0.0</td>\n",
       "      <td>NaN</td>\n",
       "      <td>NaN</td>\n",
       "      <td>62.13</td>\n",
       "      <td>74.96</td>\n",
       "      <td>36.88</td>\n",
       "      <td>45.72</td>\n",
       "      <td>NaN</td>\n",
       "      <td>...</td>\n",
       "      <td>NaN</td>\n",
       "      <td>NaN</td>\n",
       "      <td>103.00</td>\n",
       "      <td>NaN</td>\n",
       "      <td>4.32</td>\n",
       "      <td>139.50</td>\n",
       "      <td>NaN</td>\n",
       "      <td>15.00</td>\n",
       "      <td>3.0</td>\n",
       "      <td>0</td>\n",
       "    </tr>\n",
       "  </tbody>\n",
       "</table>\n",
       "<p>5 rows × 22 columns</p>\n",
       "</div>"
      ],
      "text/plain": [
       "   RecordID   Age  Gender  Height  Weight   Urine     HR   Temp  NIDiasABP  \\\n",
       "0  132539.0  54.0     0.0     NaN     NaN  171.05  70.81  37.36      50.15   \n",
       "1  132540.0  76.0     1.0   175.3   80.67  151.56  80.79  36.94      56.71   \n",
       "2  132541.0  44.0     0.0     NaN   56.70  124.95  83.76  37.80      79.00   \n",
       "3  132543.0  68.0     1.0   180.3   84.60  545.83  70.98  36.22      65.05   \n",
       "4  132545.0  88.0     0.0     NaN     NaN   62.13  74.96  36.88      45.72   \n",
       "\n",
       "   SysABP  ...  PaCO2    PaO2  Platelets    MAP     K      Na  FiO2    GCS  \\\n",
       "0     NaN  ...    NaN     NaN     203.00    NaN  4.20  136.50   NaN  14.92   \n",
       "1  113.41  ...  38.86  210.14     178.60  76.94  3.90  137.00  0.56  13.33   \n",
       "2  125.69  ...  35.50  134.50      89.67  90.44  4.26  138.33  0.50   5.92   \n",
       "3     NaN  ...    NaN     NaN     330.00    NaN  4.00  139.33   NaN  14.94   \n",
       "4     NaN  ...    NaN     NaN     103.00    NaN  4.32  139.50   NaN  15.00   \n",
       "\n",
       "   ICUType  In-hospital_death  \n",
       "0      4.0                  0  \n",
       "1      2.0                  0  \n",
       "2      3.0                  0  \n",
       "3      3.0                  0  \n",
       "4      3.0                  0  \n",
       "\n",
       "[5 rows x 22 columns]"
      ]
     },
     "execution_count": 11,
     "metadata": {},
     "output_type": "execute_result"
    }
   ],
   "source": [
    "#Save\n",
    "df.to_csv('./icu_mortality_train.csv', index = False)\n",
    "df.head()"
   ]
  },
  {
   "cell_type": "code",
   "execution_count": 12,
   "metadata": {
    "execution": {
     "iopub.execute_input": "2021-12-20T03:18:17.654893Z",
     "iopub.status.busy": "2021-12-20T03:18:17.653999Z",
     "iopub.status.idle": "2021-12-20T03:18:17.657499Z",
     "shell.execute_reply": "2021-12-20T03:18:17.657944Z",
     "shell.execute_reply.started": "2021-10-20T05:49:56.082749Z"
    },
    "papermill": {
     "duration": 0.212801,
     "end_time": "2021-12-20T03:18:17.658105",
     "exception": false,
     "start_time": "2021-12-20T03:18:17.445304",
     "status": "completed"
    },
    "tags": []
   },
   "outputs": [],
   "source": [
    "# -1 is data unavailable, we convert them to NaNs\n",
    "df = df.replace([-1.0, np.inf, -np.inf], np.nan)"
   ]
  },
  {
   "cell_type": "code",
   "execution_count": 13,
   "metadata": {},
   "outputs": [
    {
     "data": {
      "text/plain": [
       "Index(['RecordID', 'Age', 'Gender', 'Height', 'Weight', 'Urine', 'HR', 'Temp',\n",
       "       'NIDiasABP', 'SysABP', 'DiasABP', 'pH', 'PaCO2', 'PaO2', 'Platelets',\n",
       "       'MAP', 'K', 'Na', 'FiO2', 'GCS', 'ICUType', 'In-hospital_death'],\n",
       "      dtype='object')"
      ]
     },
     "execution_count": 13,
     "metadata": {},
     "output_type": "execute_result"
    }
   ],
   "source": [
    "df.columns"
   ]
  },
  {
   "cell_type": "code",
   "execution_count": 25,
   "metadata": {},
   "outputs": [
    {
     "data": {
      "text/plain": [
       "<matplotlib.axes._subplots.AxesSubplot at 0x1dd48e8e8b0>"
      ]
     },
     "execution_count": 25,
     "metadata": {},
     "output_type": "execute_result"
    },
    {
     "data": {
      "image/png": "[encoded data removed]",
      "text/plain": [
       "<Figure size 1080x1080 with 2 Axes>"
      ]
     },
     "metadata": {
      "needs_background": "light"
     },
     "output_type": "display_data"
    }
   ],
   "source": [
    "df_copy = df.drop(\"RecordID\", axis=1)\n",
    "corr = df_copy.corr()\n",
    "\n",
    "# plot the heatmap\n",
    "plt.figure(figsize=(15, 15))\n",
    "sns.heatmap(corr, xticklabels = corr.columns,  yticklabels=corr.columns)"
   ]
  },
  {
   "cell_type": "markdown",
   "metadata": {
    "papermill": {
     "duration": 0.23067,
     "end_time": "2021-12-20T03:18:37.038396",
     "exception": false,
     "start_time": "2021-12-20T03:18:36.807726",
     "status": "completed"
    },
    "tags": []
   },
   "source": [
    "### NaN Imputation\n",
    "- Before proceeding with modeling and prediction we will have to impute the NaN values in the dataset\n",
    "- We can impute all the NaNs with the respective feature's mean value\n",
    "- But here we impute NaNs depending on the 'In-hospital_death' value"
   ]
  },
  {
   "cell_type": "code",
   "execution_count": 15,
   "metadata": {},
   "outputs": [],
   "source": [
    "cat_features = ['Gender', 'ICUType', 'age_group', 'bmi_group']\n",
    "num_features = [c for c in df.columns if c not in cat_features]\n",
    "num_features = [c for c in num_features if c not in ['RecordID', 'In-hospital_death']]"
   ]
  },
  {
   "cell_type": "code",
   "execution_count": 16,
   "metadata": {
    "execution": {
     "iopub.execute_input": "2021-12-20T03:18:37.495455Z",
     "iopub.status.busy": "2021-12-20T03:18:37.494792Z",
     "iopub.status.idle": "2021-12-20T03:18:37.534162Z",
     "shell.execute_reply": "2021-12-20T03:18:37.53465Z",
     "shell.execute_reply.started": "2021-10-20T05:50:05.131474Z"
    },
    "papermill": {
     "duration": 0.267229,
     "end_time": "2021-12-20T03:18:37.534837",
     "exception": false,
     "start_time": "2021-12-20T03:18:37.267608",
     "status": "completed"
    },
    "tags": []
   },
   "outputs": [
    {
     "data": {
      "text/plain": [
       "(4000, 22)"
      ]
     },
     "execution_count": 16,
     "metadata": {},
     "output_type": "execute_result"
    }
   ],
   "source": [
    "df_0 = df[df['In-hospital_death'] == 0].copy()\n",
    "df_1 = df[df['In-hospital_death'] == 1].copy()\n",
    "#Impute Numerical Features with mean value\n",
    "df_0[num_features] = df_0[num_features].fillna(df_0[num_features].mean())\n",
    "df_1[num_features] = df_1[num_features].fillna(df_1[num_features].mean())\n",
    "\n",
    "#Impute Categorical Features with most frequent value\n",
    "for col in num_features:\n",
    "    df_0[col] = df_0[col].fillna(df_0[col].value_counts().index[0])\n",
    "    df_1[col] = df_1[col].fillna(df_1[col].value_counts().index[0])\n",
    "\n",
    "#concat both df, shuffle and reset index\n",
    "df = pd.concat([df_0, df_1], axis = 0).sample(frac = 1).reset_index(drop = True)\n",
    "df.shape"
   ]
  },
  {
   "cell_type": "code",
   "execution_count": 17,
   "metadata": {
    "execution": {
     "iopub.execute_input": "2021-12-20T03:18:37.987545Z",
     "iopub.status.busy": "2021-12-20T03:18:37.986938Z",
     "iopub.status.idle": "2021-12-20T03:18:38.000214Z",
     "shell.execute_reply": "2021-12-20T03:18:37.999701Z",
     "shell.execute_reply.started": "2021-10-20T05:50:05.179252Z"
    },
    "papermill": {
     "duration": 0.24185,
     "end_time": "2021-12-20T03:18:38.000393",
     "exception": false,
     "start_time": "2021-12-20T03:18:37.758543",
     "status": "completed"
    },
    "tags": []
   },
   "outputs": [
    {
     "name": "stdout",
     "output_type": "stream",
     "text": [
      "Feature Correlation with target:\n"
     ]
    },
    {
     "data": {
      "text/plain": [
       "RecordID            -0.011532\n",
       "Age                  0.130700\n",
       "Gender              -0.015689\n",
       "Height              -0.029749\n",
       "Weight              -0.059091\n",
       "Urine               -0.124613\n",
       "HR                   0.073804\n",
       "Temp                -0.060056\n",
       "NIDiasABP           -0.092159\n",
       "SysABP              -0.066522\n",
       "DiasABP             -0.075262\n",
       "pH                   0.027729\n",
       "PaCO2               -0.095989\n",
       "PaO2                -0.100565\n",
       "Platelets           -0.021218\n",
       "MAP                 -0.032993\n",
       "K                    0.022343\n",
       "Na                   0.022402\n",
       "FiO2                 0.052448\n",
       "GCS                 -0.256607\n",
       "ICUType              0.059896\n",
       "In-hospital_death    1.000000\n",
       "Name: In-hospital_death, dtype: float64"
      ]
     },
     "execution_count": 17,
     "metadata": {},
     "output_type": "execute_result"
    }
   ],
   "source": [
    "print('Feature Correlation with target:')\n",
    "df.corr()['In-hospital_death']"
   ]
  },
  {
   "cell_type": "markdown",
   "metadata": {
    "papermill": {
     "duration": 0.224597,
     "end_time": "2021-12-20T03:18:38.45166",
     "exception": false,
     "start_time": "2021-12-20T03:18:38.227063",
     "status": "completed"
    },
    "tags": []
   },
   "source": [
    "### Label Encoding & Standardization"
   ]
  },
  {
   "cell_type": "markdown",
   "metadata": {
    "papermill": {
     "duration": 0.223091,
     "end_time": "2021-12-20T03:18:38.899759",
     "exception": false,
     "start_time": "2021-12-20T03:18:38.676668",
     "status": "completed"
    },
    "tags": []
   },
   "source": [
    "- __Standardization__: Handle outliers better; Mean 0, Std: 1\n",
    "- __Normalization__: Doesn't handle outliers well; 0 to 1 Range"
   ]
  },
  {
   "cell_type": "code",
   "execution_count": 23,
   "metadata": {},
   "outputs": [],
   "source": [
    "df['age_group'] = pd.cut(df['Age'], bins = 9, labels = ['<20', '20s', '30s', '40s', '50s', '60s', '70s', '80s', '90s'])"
   ]
  },
  {
   "cell_type": "code",
   "execution_count": 26,
   "metadata": {
    "execution": {
     "iopub.execute_input": "2021-12-20T03:18:39.354582Z",
     "iopub.status.busy": "2021-12-20T03:18:39.353963Z",
     "iopub.status.idle": "2021-12-20T03:18:39.368506Z",
     "shell.execute_reply": "2021-12-20T03:18:39.367994Z",
     "shell.execute_reply.started": "2021-10-20T05:50:05.196272Z"
    },
    "papermill": {
     "duration": 0.242159,
     "end_time": "2021-12-20T03:18:39.36865",
     "exception": false,
     "start_time": "2021-12-20T03:18:39.126491",
     "status": "completed"
    },
    "tags": []
   },
   "outputs": [
    {
     "name": "stdout",
     "output_type": "stream",
     "text": [
      "Label Encoding: Gender - 5\n",
      "Label Encoding: ICUType - 4\n",
      "Label Encoding: age_group - 9\n"
     ]
    }
   ],
   "source": [
    "from sklearn.preprocessing import *\n",
    "\n",
    "#Label Encoding age, gender, category\n",
    "for col in ['Gender', 'ICUType', 'age_group']:\n",
    "    print(f\"Label Encoding: {col} - {df[col].nunique()}\")\n",
    "    le = LabelEncoder()\n",
    "    df[col] = le.fit_transform(df[col])"
   ]
  },
  {
   "cell_type": "code",
   "execution_count": 27,
   "metadata": {
    "execution": {
     "iopub.execute_input": "2021-12-20T03:18:39.877758Z",
     "iopub.status.busy": "2021-12-20T03:18:39.877146Z",
     "iopub.status.idle": "2021-12-20T03:18:39.890006Z",
     "shell.execute_reply": "2021-12-20T03:18:39.890539Z",
     "shell.execute_reply.started": "2021-10-20T05:50:05.212588Z"
    },
    "papermill": {
     "duration": 0.246392,
     "end_time": "2021-12-20T03:18:39.890713",
     "exception": false,
     "start_time": "2021-12-20T03:18:39.644321",
     "status": "completed"
    },
    "tags": []
   },
   "outputs": [],
   "source": [
    "std = StandardScaler()\n",
    "df[num_features] = std.fit_transform(df[num_features])"
   ]
  },
  {
   "cell_type": "code",
   "execution_count": 28,
   "metadata": {
    "execution": {
     "iopub.execute_input": "2021-12-20T03:18:40.345074Z",
     "iopub.status.busy": "2021-12-20T03:18:40.344517Z",
     "iopub.status.idle": "2021-12-20T03:18:40.349822Z",
     "shell.execute_reply": "2021-12-20T03:18:40.350339Z",
     "shell.execute_reply.started": "2021-10-20T05:50:05.230383Z"
    },
    "papermill": {
     "duration": 0.23478,
     "end_time": "2021-12-20T03:18:40.350539",
     "exception": false,
     "start_time": "2021-12-20T03:18:40.115759",
     "status": "completed"
    },
    "tags": []
   },
   "outputs": [],
   "source": [
    "X = df.drop(['RecordID', 'In-hospital_death'], axis = 1)\n",
    "y = df['In-hospital_death'].copy()"
   ]
  },
  {
   "cell_type": "code",
   "execution_count": 29,
   "metadata": {
    "_kg_hide-input": true,
    "execution": {
     "iopub.execute_input": "2021-12-20T03:18:40.817732Z",
     "iopub.status.busy": "2021-12-20T03:18:40.81706Z",
     "iopub.status.idle": "2021-12-20T03:18:40.825687Z",
     "shell.execute_reply": "2021-12-20T03:18:40.825217Z",
     "shell.execute_reply.started": "2021-10-20T05:50:05.237931Z"
    },
    "papermill": {
     "duration": 0.252823,
     "end_time": "2021-12-20T03:18:40.825825",
     "exception": false,
     "start_time": "2021-12-20T03:18:40.573002",
     "status": "completed"
    },
    "tags": []
   },
   "outputs": [
    {
     "name": "stdout",
     "output_type": "stream",
     "text": [
      "scale_pos_weight:\n"
     ]
    },
    {
     "data": {
      "text/plain": [
       "(6.2202166064981945, 2.4940362079364835)"
      ]
     },
     "execution_count": 29,
     "metadata": {},
     "output_type": "execute_result"
    }
   ],
   "source": [
    "#scale_pos_weight - sample Weights\n",
    "num_pos_samples = y.value_counts().values[1]\n",
    "num_neg_samples = y.value_counts().values[0]\n",
    "\n",
    "class_weight = num_neg_samples / num_pos_samples\n",
    "print(f\"scale_pos_weight:\")\n",
    "num_neg_samples / num_pos_samples, np.sqrt(num_neg_samples / num_pos_samples)"
   ]
  },
  {
   "cell_type": "code",
   "execution_count": 30,
   "metadata": {
    "_kg_hide-input": true,
    "execution": {
     "iopub.execute_input": "2021-12-20T03:18:42.190952Z",
     "iopub.status.busy": "2021-12-20T03:18:42.190055Z",
     "iopub.status.idle": "2021-12-20T03:18:42.195437Z",
     "shell.execute_reply": "2021-12-20T03:18:42.195952Z",
     "shell.execute_reply.started": "2021-10-20T05:50:05.254797Z"
    },
    "papermill": {
     "duration": 0.238034,
     "end_time": "2021-12-20T03:18:42.196118",
     "exception": false,
     "start_time": "2021-12-20T03:18:41.958084",
     "status": "completed"
    },
    "tags": []
   },
   "outputs": [],
   "source": [
    "def plot_pr_curve(precision, recall, avg_precision):\n",
    "    plt.figure(figsize = (8, 6))\n",
    "    plt.plot(recall, precision, label = f\"Avg. PR: {round(avg_precision, 2)}\")\n",
    "    plt.xlabel('Recall')\n",
    "    plt.ylabel('Precision')\n",
    "    plt.ylim([0.5, 1.05])\n",
    "    plt.xlim([0.55, 1.0])\n",
    "    plt.title('Precision-Recall Curve')\n",
    "    plt.legend()\n",
    "    plt.show()"
   ]
  },
  {
   "cell_type": "code",
   "execution_count": 31,
   "metadata": {
    "_kg_hide-input": true,
    "execution": {
     "iopub.execute_input": "2021-12-20T03:18:42.651095Z",
     "iopub.status.busy": "2021-12-20T03:18:42.650179Z",
     "iopub.status.idle": "2021-12-20T03:18:42.655506Z",
     "shell.execute_reply": "2021-12-20T03:18:42.656037Z",
     "shell.execute_reply.started": "2021-10-20T05:50:05.26409Z"
    },
    "papermill": {
     "duration": 0.234191,
     "end_time": "2021-12-20T03:18:42.656198",
     "exception": false,
     "start_time": "2021-12-20T03:18:42.422007",
     "status": "completed"
    },
    "tags": []
   },
   "outputs": [],
   "source": [
    "def plot_confusion(mat):\n",
    "    plt.figure(figsize = (8, 4))\n",
    "    sns.heatmap(pd.DataFrame(mat), annot = True, annot_kws = {\"size\": 25}, cmap = 'Blues', fmt = 'g')\n",
    "    plt.title('Confusion matrix', y = 1.1, fontsize = 22)\n",
    "    plt.ylabel('Actual', fontsize = 18)\n",
    "    plt.xlabel('Predicted', fontsize = 18)\n",
    "    plt.show()"
   ]
  },
  {
   "cell_type": "code",
   "execution_count": 32,
   "metadata": {
    "_kg_hide-input": true,
    "execution": {
     "iopub.execute_input": "2021-12-20T03:18:43.111498Z",
     "iopub.status.busy": "2021-12-20T03:18:43.110585Z",
     "iopub.status.idle": "2021-12-20T03:18:43.188606Z",
     "shell.execute_reply": "2021-12-20T03:18:43.189096Z",
     "shell.execute_reply.started": "2021-10-20T05:50:05.276846Z"
    },
    "papermill": {
     "duration": 0.309115,
     "end_time": "2021-12-20T03:18:43.189284",
     "exception": false,
     "start_time": "2021-12-20T03:18:42.880169",
     "status": "completed"
    },
    "tags": []
   },
   "outputs": [],
   "source": [
    "import xgboost as xgb\n",
    "from xgboost import XGBClassifier, plot_importance\n",
    "\n",
    "xgb_params = {\n",
    "         'objective': 'binary:logistic',\n",
    "         'lambda': 0.0030282073258141168, \n",
    "         'alpha': 0.01563845128469084,\n",
    "         'colsample_bytree': 0.55,\n",
    "         'subsample': 0.7,\n",
    "         'learning_rate': 0.01,\n",
    "         'max_depth': 9,\n",
    "         'random_state': 2020, \n",
    "         'min_child_weight': 257,\n",
    "         'eval_metric': 'aucpr',\n",
    "         'seed': 2021,\n",
    "         'scale_pos_weight': num_neg_samples / num_pos_samples #np.sqrt(num_neg_samples / num_pos_samples)\n",
    "         }"
   ]
  },
  {
   "cell_type": "code",
   "execution_count": 33,
   "metadata": {
    "_kg_hide-input": true,
    "execution": {
     "iopub.execute_input": "2021-12-20T03:18:43.653248Z",
     "iopub.status.busy": "2021-12-20T03:18:43.652332Z",
     "iopub.status.idle": "2021-12-20T03:18:43.887817Z",
     "shell.execute_reply": "2021-12-20T03:18:43.887186Z",
     "shell.execute_reply.started": "2021-10-20T05:50:05.291095Z"
    },
    "papermill": {
     "duration": 0.467723,
     "end_time": "2021-12-20T03:18:43.887961",
     "exception": false,
     "start_time": "2021-12-20T03:18:43.420238",
     "status": "completed"
    },
    "tags": []
   },
   "outputs": [],
   "source": [
    "import lightgbm as lgbm\n",
    "\n",
    "params = {\n",
    "        'boosting_type': 'gbdt',\n",
    "        'objective': 'binary',\n",
    "        'metric': None,\n",
    "        'learning_rate': 0.02,\n",
    "        'is_unbalance': 'true',  #because training data is unbalance (replaced with scale_pos_weight)\n",
    "        'num_leaves': 31,  # we should let it be smaller than 2^(max_depth)\n",
    "        'max_depth': -1,  # -1 means no limit\n",
    "        'min_child_samples': 20,  # Minimum number of data need in a child(min_data_in_leaf)\n",
    "        'max_bin': 255,  # Number of bucketed bin for feature values\n",
    "        'subsample': 0.6,  # Subsample ratio of the training instance.\n",
    "        'subsample_freq': 0,  # frequence of subsample, <=0 means no enable\n",
    "        'colsample_bytree': 0.3,  # Subsample ratio of columns when constructing each tree.\n",
    "        'min_child_weight': 5,  # Minimum sum of instance weight(hessian) needed in a child(leaf)\n",
    "        'subsample_for_bin': 200000,  # Number of samples for constructing bin\n",
    "        'min_split_gain': 0,  # lambda_l1, lambda_l2 and min_gain_to_split to regularization\n",
    "        'reg_alpha': 0,  # L1 regularization term on weights\n",
    "        'reg_lambda': 0,  # L2 regularization term on weights\n",
    "        'nthread': 4,\n",
    "        'verbose': -1\n",
    "}\n",
    "\n",
    "def pr_score(preds, train_data):\n",
    "    aps = average_precision_score(train_data.get_label(), preds)\n",
    "    return 'aps', aps, False"
   ]
  },
  {
   "cell_type": "code",
   "execution_count": 34,
   "metadata": {
    "execution": {
     "iopub.execute_input": "2021-12-20T03:18:44.347905Z",
     "iopub.status.busy": "2021-12-20T03:18:44.346956Z",
     "iopub.status.idle": "2021-12-20T03:18:44.351506Z",
     "shell.execute_reply": "2021-12-20T03:18:44.351954Z",
     "shell.execute_reply.started": "2021-10-20T07:00:08.421193Z"
    },
    "papermill": {
     "duration": 0.23526,
     "end_time": "2021-12-20T03:18:44.352117",
     "exception": false,
     "start_time": "2021-12-20T03:18:44.116857",
     "status": "completed"
    },
    "tags": []
   },
   "outputs": [],
   "source": [
    "def compute_precision_recall(conf_mat):\n",
    "    #compute precision and recall\n",
    "    tp_and_fn = conf_mat.sum(axis = 1)\n",
    "    tp_and_fp = conf_mat.sum(axis = 0)\n",
    "    tp = conf_mat.diagonal()\n",
    "    precision = tp / tp_and_fp\n",
    "    recall = tp / tp_and_fn\n",
    "    return precision, recall"
   ]
  },
  {
   "cell_type": "code",
   "execution_count": 35,
   "metadata": {
    "execution": {
     "iopub.execute_input": "2021-12-20T03:18:44.807621Z",
     "iopub.status.busy": "2021-12-20T03:18:44.806588Z",
     "iopub.status.idle": "2021-12-20T03:18:44.809878Z",
     "shell.execute_reply": "2021-12-20T03:18:44.810429Z",
     "shell.execute_reply.started": "2021-10-20T05:50:05.30053Z"
    },
    "papermill": {
     "duration": 0.233724,
     "end_time": "2021-12-20T03:18:44.810598",
     "exception": false,
     "start_time": "2021-12-20T03:18:44.576874",
     "status": "completed"
    },
    "tags": []
   },
   "outputs": [],
   "source": [
    "model_type = 'xgbclassifier'"
   ]
  },
  {
   "cell_type": "code",
   "execution_count": 38,
   "metadata": {
    "_kg_hide-input": true,
    "_kg_hide-output": true,
    "execution": {
     "iopub.execute_input": "2021-12-20T03:18:45.266708Z",
     "iopub.status.busy": "2021-12-20T03:18:45.26577Z",
     "iopub.status.idle": "2021-12-20T03:18:53.145178Z",
     "shell.execute_reply": "2021-12-20T03:18:53.145664Z",
     "shell.execute_reply.started": "2021-10-20T06:53:08.143791Z"
    },
    "papermill": {
     "duration": 8.110281,
     "end_time": "2021-12-20T03:18:53.145862",
     "exception": false,
     "start_time": "2021-12-20T03:18:45.035581",
     "status": "completed"
    },
    "tags": []
   },
   "outputs": [
    {
     "name": "stdout",
     "output_type": "stream",
     "text": [
      "###########################################################################################\n",
      "Fold: 1\n",
      "(3600, 21) (3600,) (400, 21) (400,)\n",
      "Classifier: xgbclassifier\n",
      "###########################################################################################\n",
      "\n",
      "Avg. Precision-Recall Score: 0.9322136120204447\n"
     ]
    },
    {
     "data": {
      "image/png": "[encoded data removed]",
      "text/plain": [
       "<Figure size 576x288 with 2 Axes>"
      ]
     },
     "metadata": {
      "needs_background": "light"
     },
     "output_type": "display_data"
    },
    {
     "name": "stdout",
     "output_type": "stream",
     "text": [
      "Classification Report: \n",
      "              precision    recall  f1-score   support\n",
      "\n",
      "           0       0.97      0.98      0.97       345\n",
      "           1       0.85      0.82      0.83        55\n",
      "\n",
      "    accuracy                           0.95       400\n",
      "   macro avg       0.91      0.90      0.90       400\n",
      "weighted avg       0.95      0.95      0.95       400\n",
      "\n",
      "\n",
      "###########################################################################################\n",
      "Fold: 2\n",
      "(3600, 21) (3600,) (400, 21) (400,)\n",
      "Classifier: xgbclassifier\n",
      "###########################################################################################\n",
      "\n",
      "Avg. Precision-Recall Score: 0.9159325630032028\n"
     ]
    },
    {
     "data": {
      "image/png": "[encoded data removed]",
      "text/plain": [
       "<Figure size 576x288 with 2 Axes>"
      ]
     },
     "metadata": {
      "needs_background": "light"
     },
     "output_type": "display_data"
    },
    {
     "name": "stdout",
     "output_type": "stream",
     "text": [
      "Classification Report: \n",
      "              precision    recall  f1-score   support\n",
      "\n",
      "           0       0.96      0.98      0.97       345\n",
      "           1       0.87      0.75      0.80        55\n",
      "\n",
      "    accuracy                           0.95       400\n",
      "   macro avg       0.92      0.86      0.89       400\n",
      "weighted avg       0.95      0.95      0.95       400\n",
      "\n",
      "\n",
      "###########################################################################################\n",
      "Fold: 3\n",
      "(3600, 21) (3600,) (400, 21) (400,)\n",
      "Classifier: xgbclassifier\n",
      "###########################################################################################\n",
      "\n",
      "Avg. Precision-Recall Score: 0.93986602034851\n"
     ]
    },
    {
     "data": {
      "image/png": "[encoded data removed]",
      "text/plain": [
       "<Figure size 576x288 with 2 Axes>"
      ]
     },
     "metadata": {
      "needs_background": "light"
     },
     "output_type": "display_data"
    },
    {
     "name": "stdout",
     "output_type": "stream",
     "text": [
      "Classification Report: \n",
      "              precision    recall  f1-score   support\n",
      "\n",
      "           0       0.98      0.98      0.98       345\n",
      "           1       0.89      0.85      0.87        55\n",
      "\n",
      "    accuracy                           0.96       400\n",
      "   macro avg       0.93      0.92      0.93       400\n",
      "weighted avg       0.96      0.96      0.96       400\n",
      "\n",
      "\n",
      "###########################################################################################\n",
      "Fold: 4\n",
      "(3600, 21) (3600,) (400, 21) (400,)\n",
      "Classifier: xgbclassifier\n",
      "###########################################################################################\n",
      "\n",
      "Avg. Precision-Recall Score: 0.9158800544943879\n"
     ]
    },
    {
     "data": {
      "image/png": "[encoded data removed]",
      "text/plain": [
       "<Figure size 576x288 with 2 Axes>"
      ]
     },
     "metadata": {
      "needs_background": "light"
     },
     "output_type": "display_data"
    },
    {
     "name": "stdout",
     "output_type": "stream",
     "text": [
      "Classification Report: \n",
      "              precision    recall  f1-score   support\n",
      "\n",
      "           0       0.97      0.98      0.97       345\n",
      "           1       0.84      0.78      0.81        55\n",
      "\n",
      "    accuracy                           0.95       400\n",
      "   macro avg       0.90      0.88      0.89       400\n",
      "weighted avg       0.95      0.95      0.95       400\n",
      "\n",
      "\n",
      "###########################################################################################\n",
      "Fold: 5\n",
      "(3600, 21) (3600,) (400, 21) (400,)\n",
      "Classifier: xgbclassifier\n",
      "###########################################################################################\n",
      "\n",
      "Avg. Precision-Recall Score: 0.9128720273190348\n"
     ]
    },
    {
     "data": {
      "image/png": "[encoded data removed]",
      "text/plain": [
       "<Figure size 576x288 with 2 Axes>"
      ]
     },
     "metadata": {
      "needs_background": "light"
     },
     "output_type": "display_data"
    },
    {
     "name": "stdout",
     "output_type": "stream",
     "text": [
      "Classification Report: \n",
      "              precision    recall  f1-score   support\n",
      "\n",
      "           0       0.96      0.98      0.97       345\n",
      "           1       0.84      0.76      0.80        55\n",
      "\n",
      "    accuracy                           0.95       400\n",
      "   macro avg       0.90      0.87      0.88       400\n",
      "weighted avg       0.95      0.95      0.95       400\n",
      "\n",
      "\n",
      "###########################################################################################\n",
      "Fold: 6\n",
      "(3600, 21) (3600,) (400, 21) (400,)\n",
      "Classifier: xgbclassifier\n",
      "###########################################################################################\n",
      "\n",
      "Avg. Precision-Recall Score: 0.9178602434026036\n"
     ]
    },
    {
     "data": {
      "image/png": "[encoded data removed]",
      "text/plain": [
       "<Figure size 576x288 with 2 Axes>"
      ]
     },
     "metadata": {
      "needs_background": "light"
     },
     "output_type": "display_data"
    },
    {
     "name": "stdout",
     "output_type": "stream",
     "text": [
      "Classification Report: \n",
      "              precision    recall  f1-score   support\n",
      "\n",
      "           0       0.97      0.98      0.98       345\n",
      "           1       0.88      0.80      0.84        55\n",
      "\n",
      "    accuracy                           0.96       400\n",
      "   macro avg       0.92      0.89      0.91       400\n",
      "weighted avg       0.96      0.96      0.96       400\n",
      "\n",
      "\n",
      "###########################################################################################\n",
      "Fold: 7\n",
      "(3600, 21) (3600,) (400, 21) (400,)\n",
      "Classifier: xgbclassifier\n",
      "###########################################################################################\n",
      "\n",
      "Avg. Precision-Recall Score: 0.9577287721240185\n"
     ]
    },
    {
     "data": {
      "image/png": "[encoded data removed]",
      "text/plain": [
       "<Figure size 576x288 with 2 Axes>"
      ]
     },
     "metadata": {
      "needs_background": "light"
     },
     "output_type": "display_data"
    },
    {
     "name": "stdout",
     "output_type": "stream",
     "text": [
      "Classification Report: \n",
      "              precision    recall  f1-score   support\n",
      "\n",
      "           0       0.98      0.99      0.98       344\n",
      "           1       0.91      0.86      0.88        56\n",
      "\n",
      "    accuracy                           0.97       400\n",
      "   macro avg       0.94      0.92      0.93       400\n",
      "weighted avg       0.97      0.97      0.97       400\n",
      "\n",
      "\n",
      "###########################################################################################\n",
      "Fold: 8\n",
      "(3600, 21) (3600,) (400, 21) (400,)\n",
      "Classifier: xgbclassifier\n",
      "###########################################################################################\n",
      "\n",
      "Avg. Precision-Recall Score: 0.9446528881728619\n"
     ]
    },
    {
     "data": {
      "image/png": "[encoded data removed]",
      "text/plain": [
       "<Figure size 576x288 with 2 Axes>"
      ]
     },
     "metadata": {
      "needs_background": "light"
     },
     "output_type": "display_data"
    },
    {
     "name": "stdout",
     "output_type": "stream",
     "text": [
      "Classification Report: \n",
      "              precision    recall  f1-score   support\n",
      "\n",
      "           0       0.97      0.98      0.98       344\n",
      "           1       0.87      0.82      0.84        56\n",
      "\n",
      "    accuracy                           0.96       400\n",
      "   macro avg       0.92      0.90      0.91       400\n",
      "weighted avg       0.96      0.96      0.96       400\n",
      "\n",
      "\n",
      "###########################################################################################\n",
      "Fold: 9\n",
      "(3600, 21) (3600,) (400, 21) (400,)\n",
      "Classifier: xgbclassifier\n",
      "###########################################################################################\n",
      "\n",
      "Avg. Precision-Recall Score: 0.9159864050862973\n"
     ]
    },
    {
     "data": {
      "image/png": "[encoded data removed]",
      "text/plain": [
       "<Figure size 576x288 with 2 Axes>"
      ]
     },
     "metadata": {
      "needs_background": "light"
     },
     "output_type": "display_data"
    },
    {
     "name": "stdout",
     "output_type": "stream",
     "text": [
      "Classification Report: \n",
      "              precision    recall  f1-score   support\n",
      "\n",
      "           0       0.96      0.99      0.98       344\n",
      "           1       0.95      0.75      0.84        56\n",
      "\n",
      "    accuracy                           0.96       400\n",
      "   macro avg       0.96      0.87      0.91       400\n",
      "weighted avg       0.96      0.96      0.96       400\n",
      "\n",
      "\n",
      "###########################################################################################\n",
      "Fold: 10\n",
      "(3600, 21) (3600,) (400, 21) (400,)\n",
      "Classifier: xgbclassifier\n",
      "###########################################################################################\n",
      "\n",
      "Avg. Precision-Recall Score: 0.9265786701967179\n"
     ]
    },
    {
     "data": {
      "image/png": "[encoded data removed]",
      "text/plain": [
       "<Figure size 576x288 with 2 Axes>"
      ]
     },
     "metadata": {
      "needs_background": "light"
     },
     "output_type": "display_data"
    },
    {
     "name": "stdout",
     "output_type": "stream",
     "text": [
      "Classification Report: \n",
      "              precision    recall  f1-score   support\n",
      "\n",
      "           0       0.96      0.97      0.97       344\n",
      "           1       0.82      0.75      0.79        56\n",
      "\n",
      "    accuracy                           0.94       400\n",
      "   macro avg       0.89      0.86      0.88       400\n",
      "weighted avg       0.94      0.94      0.94       400\n",
      "\n",
      "\n"
     ]
    }
   ],
   "source": [
    "from sklearn.model_selection import StratifiedKFold\n",
    "from sklearn.metrics import *\n",
    "\n",
    "n_folds = 10\n",
    "preds_xg = []\n",
    "overall_pr = []\n",
    "all_precision, all_recall = [], []\n",
    "\n",
    "skf = StratifiedKFold(n_splits = n_folds)\n",
    "#rkf = RepeatedStratifiedKFold(n_splits = 2, n_repeats = 5, random_state = 42)\n",
    "\n",
    "for i, (trn_idx, val_idx) in enumerate(skf.split(X, y)):\n",
    "    print('#############' * 7)\n",
    "    print(f\"Fold: {i + 1}\")\n",
    "    Xtrain, ytrain = X.iloc[trn_idx], y[trn_idx]\n",
    "    Xvalid, yvalid = X.iloc[val_idx], y[val_idx]\n",
    "    print(Xtrain.shape, ytrain.shape, Xvalid.shape, yvalid.shape)\n",
    "    print(f\"Classifier: {model_type}\")\n",
    "    print('#############' * 7)\n",
    "    \n",
    "    if model_type == 'lgbm':\n",
    "        ltrain = lgbm.Dataset(Xtrain, label = ytrain)\n",
    "        lvalid = lgbm.Dataset(Xvalid, label = yvalid)\n",
    "\n",
    "        model = lgbm.train(params,\n",
    "                ltrain,\n",
    "                num_boost_round = 2000,\n",
    "                valid_sets = [ltrain, lvalid],\n",
    "                verbose_eval = 250,\n",
    "                early_stopping_rounds = 100, \n",
    "                feval = pr_score)\n",
    "\n",
    "        valid_preds = model.predict(Xvalid)\n",
    "        \n",
    "    if model_type == 'xgboost':\n",
    "        xg_train = xgb.DMatrix(Xtrain, label = ytrain)\n",
    "        xg_valid = xgb.DMatrix(Xvalid, label = yvalid)\n",
    "\n",
    "        clf = xgb.train(params,\n",
    "                          xg_train,\n",
    "                          5000,\n",
    "                          verbose_eval = 50,\n",
    "                          evals = [(xg_train, 'train'), (xg_valid, 'valid')],\n",
    "                          early_stopping_rounds = 100\n",
    "                       )\n",
    "\n",
    "        valid_preds = clf.predict(xg_valid)\n",
    "    \n",
    "    if model_type == 'xgbclassifier':\n",
    "        clf = XGBClassifier(scale_pos_weight = class_weight, eval_metric = 'aucpr',\n",
    "                                random_state = 42, n_jobs = -1)\n",
    "        clf.fit(Xtrain, ytrain)\n",
    "        valid_preds = clf.predict_proba(Xvalid)[:, 1]\n",
    "        \n",
    "    avg_precision = average_precision_score(yvalid, valid_preds)\n",
    "    print(f'\\nAvg. Precision-Recall Score: {avg_precision}')\n",
    "    overall_pr.append(avg_precision)\n",
    "    \n",
    "    #precision, recall, _ = precision_recall_curve(yvalid, valid_preds)\n",
    "    #plot_pr_curve(precision, recall, avg_precision)\n",
    "    \n",
    "    conf_mat = confusion_matrix(yvalid, valid_preds > 0.5)\n",
    "    #compute precision and recall\n",
    "    pre, rec = compute_precision_recall(conf_mat)\n",
    "    all_precision.append(pre)\n",
    "    all_recall.append(rec)\n",
    "    plot_confusion(conf_mat)\n",
    "    \n",
    "    print(f\"Classification Report: \\n{classification_report(yvalid, valid_preds > 0.5, labels = [0, 1])}\")\n",
    "    \n",
    "    preds_xg.append(valid_preds)\n",
    "    print()"
   ]
  },
  {
   "cell_type": "code",
   "execution_count": 39,
   "metadata": {
    "execution": {
     "iopub.execute_input": "2021-12-20T03:18:53.629877Z",
     "iopub.status.busy": "2021-12-20T03:18:53.628931Z",
     "iopub.status.idle": "2021-12-20T03:18:53.634577Z",
     "shell.execute_reply": "2021-12-20T03:18:53.635136Z",
     "shell.execute_reply.started": "2021-10-20T06:53:33.698185Z"
    },
    "papermill": {
     "duration": 0.247214,
     "end_time": "2021-12-20T03:18:53.635318",
     "exception": false,
     "start_time": "2021-12-20T03:18:53.388104",
     "status": "completed"
    },
    "tags": []
   },
   "outputs": [
    {
     "name": "stdout",
     "output_type": "stream",
     "text": [
      "\t\t Overall Avg CV Score: 0.927957125616808\n",
      "\t\t Avg. Precision: 0.9198592108026569\n",
      "\t\t Avg. Recall: 0.8876804098328364\n"
     ]
    }
   ],
   "source": [
    "print(f\"\\t\\t Overall Avg CV Score: {np.mean(overall_pr)}\")\n",
    "print(f\"\\t\\t Avg. Precision: {np.mean(all_precision)}\\n\\t\\t Avg. Recall: {np.mean(all_recall)}\")"
   ]
  },
  {
   "cell_type": "code",
   "execution_count": 40,
   "metadata": {
    "_kg_hide-input": true,
    "execution": {
     "iopub.execute_input": "2021-12-20T03:18:54.118134Z",
     "iopub.status.busy": "2021-12-20T03:18:54.11754Z",
     "iopub.status.idle": "2021-12-20T03:18:54.121356Z",
     "shell.execute_reply": "2021-12-20T03:18:54.12179Z",
     "shell.execute_reply.started": "2021-10-20T07:07:53.670313Z"
    },
    "papermill": {
     "duration": 0.248097,
     "end_time": "2021-12-20T03:18:54.121948",
     "exception": false,
     "start_time": "2021-12-20T03:18:53.873851",
     "status": "completed"
    },
    "tags": []
   },
   "outputs": [
    {
     "data": {
      "text/html": [
       "<h1></b>- Precision at 91.99% means that when our model predicts the mortality it is correct 91.99% of the time </b></h1>"
      ],
      "text/plain": [
       "<IPython.core.display.HTML object>"
      ]
     },
     "metadata": {},
     "output_type": "display_data"
    },
    {
     "data": {
      "text/html": [
       "<h1></b>- Recall at 88.77% means that our model correctly identifies 88.77% of all mortality in patients </b></h1>"
      ],
      "text/plain": [
       "<IPython.core.display.HTML object>"
      ]
     },
     "metadata": {},
     "output_type": "display_data"
    }
   ],
   "source": [
    "display(HTML(f\"<h1></b>- Precision at {round(np.mean(all_precision) * 100, 2)}% means that when our model predicts the mortality it is correct {round(np.mean(all_precision) * 100, 2)}% of the time </b></h1>\"))\n",
    "display(HTML(f\"<h1></b>- Recall at {round(np.mean(all_recall) * 100, 2)}% means that our model correctly identifies {round(np.mean(all_recall) * 100, 2)}% of all mortality in patients </b></h1>\"))"
   ]
  },
  {
   "cell_type": "markdown",
   "metadata": {
    "papermill": {
     "duration": 0.240644,
     "end_time": "2021-12-20T03:18:54.602709",
     "exception": false,
     "start_time": "2021-12-20T03:18:54.362065",
     "status": "completed"
    },
    "tags": []
   },
   "source": [
    "# Model Explainability by SHAP"
   ]
  },
  {
   "cell_type": "code",
   "execution_count": 41,
   "metadata": {
    "execution": {
     "iopub.execute_input": "2021-12-20T03:18:55.127535Z",
     "iopub.status.busy": "2021-12-20T03:18:55.126935Z",
     "iopub.status.idle": "2021-12-20T03:19:02.742764Z",
     "shell.execute_reply": "2021-12-20T03:19:02.741943Z",
     "shell.execute_reply.started": "2021-10-20T05:50:09.169647Z"
    },
    "papermill": {
     "duration": 7.901438,
     "end_time": "2021-12-20T03:19:02.742965",
     "exception": false,
     "start_time": "2021-12-20T03:18:54.841527",
     "status": "completed"
    },
    "tags": []
   },
   "outputs": [
    {
     "name": "stdout",
     "output_type": "stream",
     "text": [
      "Wall time: 921 ms\n"
     ]
    }
   ],
   "source": [
    "%%time\n",
    "import shap\n",
    "\n",
    "#Shap values with XGBoost core model\n",
    "#Getting the shap values using the model is faster than usual way\n",
    "booster_xgb = clf.get_booster()\n",
    "shap_values_xgb = booster_xgb.predict(xgb.DMatrix(Xtrain, ytrain), pred_contribs = True)"
   ]
  },
  {
   "cell_type": "code",
   "execution_count": 42,
   "metadata": {
    "execution": {
     "iopub.execute_input": "2021-12-20T03:19:03.258527Z",
     "iopub.status.busy": "2021-12-20T03:19:03.257579Z",
     "iopub.status.idle": "2021-12-20T03:19:03.271855Z",
     "shell.execute_reply": "2021-12-20T03:19:03.271246Z",
     "shell.execute_reply.started": "2021-10-20T05:50:09.170905Z"
    },
    "papermill": {
     "duration": 0.274733,
     "end_time": "2021-12-20T03:19:03.271993",
     "exception": false,
     "start_time": "2021-12-20T03:19:02.99726",
     "status": "completed"
    },
    "tags": []
   },
   "outputs": [
    {
     "name": "stdout",
     "output_type": "stream",
     "text": [
      "(3600, 21)\n"
     ]
    },
    {
     "data": {
      "text/html": [
       "<div>\n",
       "<style scoped>\n",
       "    .dataframe tbody tr th:only-of-type {\n",
       "        vertical-align: middle;\n",
       "    }\n",
       "\n",
       "    .dataframe tbody tr th {\n",
       "        vertical-align: top;\n",
       "    }\n",
       "\n",
       "    .dataframe thead th {\n",
       "        text-align: right;\n",
       "    }\n",
       "</style>\n",
       "<table border=\"1\" class=\"dataframe\">\n",
       "  <thead>\n",
       "    <tr style=\"text-align: right;\">\n",
       "      <th></th>\n",
       "      <th>Age</th>\n",
       "      <th>Gender</th>\n",
       "      <th>Height</th>\n",
       "      <th>Weight</th>\n",
       "      <th>Urine</th>\n",
       "      <th>HR</th>\n",
       "      <th>Temp</th>\n",
       "      <th>NIDiasABP</th>\n",
       "      <th>SysABP</th>\n",
       "      <th>DiasABP</th>\n",
       "      <th>...</th>\n",
       "      <th>PaCO2</th>\n",
       "      <th>PaO2</th>\n",
       "      <th>Platelets</th>\n",
       "      <th>MAP</th>\n",
       "      <th>K</th>\n",
       "      <th>Na</th>\n",
       "      <th>FiO2</th>\n",
       "      <th>GCS</th>\n",
       "      <th>ICUType</th>\n",
       "      <th>age_group</th>\n",
       "    </tr>\n",
       "  </thead>\n",
       "  <tbody>\n",
       "    <tr>\n",
       "      <th>0</th>\n",
       "      <td>-1.443691</td>\n",
       "      <td>0.108687</td>\n",
       "      <td>-5.245642</td>\n",
       "      <td>-0.260497</td>\n",
       "      <td>-0.640286</td>\n",
       "      <td>0.023693</td>\n",
       "      <td>-0.261013</td>\n",
       "      <td>-0.213255</td>\n",
       "      <td>-0.124803</td>\n",
       "      <td>-0.179599</td>\n",
       "      <td>...</td>\n",
       "      <td>-0.995164</td>\n",
       "      <td>-0.264544</td>\n",
       "      <td>-0.035810</td>\n",
       "      <td>0.021047</td>\n",
       "      <td>-0.340729</td>\n",
       "      <td>-0.413609</td>\n",
       "      <td>-0.045216</td>\n",
       "      <td>-0.500300</td>\n",
       "      <td>0.210544</td>\n",
       "      <td>0.003273</td>\n",
       "    </tr>\n",
       "    <tr>\n",
       "      <th>1</th>\n",
       "      <td>-1.816381</td>\n",
       "      <td>0.043272</td>\n",
       "      <td>-1.555412</td>\n",
       "      <td>-0.089878</td>\n",
       "      <td>-0.640758</td>\n",
       "      <td>-0.035174</td>\n",
       "      <td>-0.212311</td>\n",
       "      <td>-2.447953</td>\n",
       "      <td>-0.200093</td>\n",
       "      <td>-0.297617</td>\n",
       "      <td>...</td>\n",
       "      <td>-0.915410</td>\n",
       "      <td>-0.216250</td>\n",
       "      <td>0.395772</td>\n",
       "      <td>-0.080553</td>\n",
       "      <td>-0.038307</td>\n",
       "      <td>-0.523308</td>\n",
       "      <td>-0.334506</td>\n",
       "      <td>-1.259464</td>\n",
       "      <td>-0.477293</td>\n",
       "      <td>-0.004207</td>\n",
       "    </tr>\n",
       "    <tr>\n",
       "      <th>2</th>\n",
       "      <td>-0.699265</td>\n",
       "      <td>0.011836</td>\n",
       "      <td>-5.229279</td>\n",
       "      <td>-0.334233</td>\n",
       "      <td>-0.666933</td>\n",
       "      <td>0.768687</td>\n",
       "      <td>-0.570559</td>\n",
       "      <td>0.072243</td>\n",
       "      <td>0.895737</td>\n",
       "      <td>-0.015997</td>\n",
       "      <td>...</td>\n",
       "      <td>-0.413027</td>\n",
       "      <td>0.420729</td>\n",
       "      <td>0.195397</td>\n",
       "      <td>0.021025</td>\n",
       "      <td>-0.128623</td>\n",
       "      <td>0.850351</td>\n",
       "      <td>0.342164</td>\n",
       "      <td>-0.727116</td>\n",
       "      <td>0.145750</td>\n",
       "      <td>-0.000823</td>\n",
       "    </tr>\n",
       "    <tr>\n",
       "      <th>3</th>\n",
       "      <td>-0.485763</td>\n",
       "      <td>-0.065634</td>\n",
       "      <td>0.796974</td>\n",
       "      <td>0.186518</td>\n",
       "      <td>-0.667525</td>\n",
       "      <td>0.137430</td>\n",
       "      <td>1.328379</td>\n",
       "      <td>1.092931</td>\n",
       "      <td>-1.046708</td>\n",
       "      <td>0.050444</td>\n",
       "      <td>...</td>\n",
       "      <td>1.169471</td>\n",
       "      <td>0.642569</td>\n",
       "      <td>-0.029610</td>\n",
       "      <td>-0.059640</td>\n",
       "      <td>-0.094238</td>\n",
       "      <td>0.324248</td>\n",
       "      <td>2.708477</td>\n",
       "      <td>-0.784370</td>\n",
       "      <td>0.302027</td>\n",
       "      <td>-0.008455</td>\n",
       "    </tr>\n",
       "    <tr>\n",
       "      <th>4</th>\n",
       "      <td>-0.686547</td>\n",
       "      <td>-0.073768</td>\n",
       "      <td>0.385160</td>\n",
       "      <td>-0.053492</td>\n",
       "      <td>1.502852</td>\n",
       "      <td>0.248608</td>\n",
       "      <td>0.744397</td>\n",
       "      <td>-0.828987</td>\n",
       "      <td>1.187876</td>\n",
       "      <td>-0.105420</td>\n",
       "      <td>...</td>\n",
       "      <td>0.766335</td>\n",
       "      <td>-0.064187</td>\n",
       "      <td>0.241635</td>\n",
       "      <td>0.324844</td>\n",
       "      <td>-0.017767</td>\n",
       "      <td>-0.056564</td>\n",
       "      <td>-0.314489</td>\n",
       "      <td>0.800409</td>\n",
       "      <td>0.228296</td>\n",
       "      <td>-0.006807</td>\n",
       "    </tr>\n",
       "  </tbody>\n",
       "</table>\n",
       "<p>5 rows × 21 columns</p>\n",
       "</div>"
      ],
      "text/plain": [
       "        Age    Gender    Height    Weight     Urine        HR      Temp  \\\n",
       "0 -1.443691  0.108687 -5.245642 -0.260497 -0.640286  0.023693 -0.261013   \n",
       "1 -1.816381  0.043272 -1.555412 -0.089878 -0.640758 -0.035174 -0.212311   \n",
       "2 -0.699265  0.011836 -5.229279 -0.334233 -0.666933  0.768687 -0.570559   \n",
       "3 -0.485763 -0.065634  0.796974  0.186518 -0.667525  0.137430  1.328379   \n",
       "4 -0.686547 -0.073768  0.385160 -0.053492  1.502852  0.248608  0.744397   \n",
       "\n",
       "   NIDiasABP    SysABP   DiasABP  ...     PaCO2      PaO2  Platelets  \\\n",
       "0  -0.213255 -0.124803 -0.179599  ... -0.995164 -0.264544  -0.035810   \n",
       "1  -2.447953 -0.200093 -0.297617  ... -0.915410 -0.216250   0.395772   \n",
       "2   0.072243  0.895737 -0.015997  ... -0.413027  0.420729   0.195397   \n",
       "3   1.092931 -1.046708  0.050444  ...  1.169471  0.642569  -0.029610   \n",
       "4  -0.828987  1.187876 -0.105420  ...  0.766335 -0.064187   0.241635   \n",
       "\n",
       "        MAP         K        Na      FiO2       GCS   ICUType  age_group  \n",
       "0  0.021047 -0.340729 -0.413609 -0.045216 -0.500300  0.210544   0.003273  \n",
       "1 -0.080553 -0.038307 -0.523308 -0.334506 -1.259464 -0.477293  -0.004207  \n",
       "2  0.021025 -0.128623  0.850351  0.342164 -0.727116  0.145750  -0.000823  \n",
       "3 -0.059640 -0.094238  0.324248  2.708477 -0.784370  0.302027  -0.008455  \n",
       "4  0.324844 -0.017767 -0.056564 -0.314489  0.800409  0.228296  -0.006807  \n",
       "\n",
       "[5 rows x 21 columns]"
      ]
     },
     "execution_count": 42,
     "metadata": {},
     "output_type": "execute_result"
    }
   ],
   "source": [
    "shap_values_xgb = shap_values_xgb[:, :-1]\n",
    "print(shap_values_xgb.shape)\n",
    "pd.DataFrame(shap_values_xgb, columns = Xtrain.columns.tolist()).head()"
   ]
  },
  {
   "cell_type": "markdown",
   "metadata": {
    "papermill": {
     "duration": 0.239628,
     "end_time": "2021-12-20T03:19:03.751322",
     "exception": false,
     "start_time": "2021-12-20T03:19:03.511694",
     "status": "completed"
    },
    "tags": []
   },
   "source": [
    "# Feature Importances"
   ]
  },
  {
   "cell_type": "code",
   "execution_count": 43,
   "metadata": {
    "execution": {
     "iopub.execute_input": "2021-12-20T03:19:04.256779Z",
     "iopub.status.busy": "2021-12-20T03:19:04.242806Z",
     "iopub.status.idle": "2021-12-20T03:19:04.580776Z",
     "shell.execute_reply": "2021-12-20T03:19:04.581213Z",
     "shell.execute_reply.started": "2021-10-20T05:50:09.172239Z"
    },
    "papermill": {
     "duration": 0.586819,
     "end_time": "2021-12-20T03:19:04.581436",
     "exception": false,
     "start_time": "2021-12-20T03:19:03.994617",
     "status": "completed"
    },
    "tags": []
   },
   "outputs": [
    {
     "data": {
      "image/png": "[encoded data removed]",
      "text/plain": [
       "<Figure size 576x684 with 1 Axes>"
      ]
     },
     "metadata": {
      "needs_background": "light"
     },
     "output_type": "display_data"
    }
   ],
   "source": [
    "shap.summary_plot(shap_values_xgb, Xtrain, feature_names = Xtrain.columns, plot_type = \"bar\")"
   ]
  },
  {
   "cell_type": "code",
   "execution_count": 44,
   "metadata": {
    "execution": {
     "iopub.execute_input": "2021-12-20T03:19:05.1005Z",
     "iopub.status.busy": "2021-12-20T03:19:05.099718Z",
     "iopub.status.idle": "2021-12-20T03:19:05.102716Z",
     "shell.execute_reply": "2021-12-20T03:19:05.10325Z",
     "shell.execute_reply.started": "2021-10-20T05:50:09.173712Z"
    },
    "papermill": {
     "duration": 0.280499,
     "end_time": "2021-12-20T03:19:05.103461",
     "exception": false,
     "start_time": "2021-12-20T03:19:04.822962",
     "status": "completed"
    },
    "tags": []
   },
   "outputs": [
    {
     "data": {
      "text/plain": [
       "1.0147673"
      ]
     },
     "execution_count": 44,
     "metadata": {},
     "output_type": "execute_result"
    }
   ],
   "source": [
    "#importances are just the average absolute Shapley values for a feature. We can check that below:\n",
    "pd.DataFrame(shap_values_xgb, columns = Xtrain.columns)[\"GCS\"].abs().mean()"
   ]
  },
  {
   "cell_type": "code",
   "execution_count": 45,
   "metadata": {
    "execution": {
     "iopub.execute_input": "2021-12-20T03:19:05.663312Z",
     "iopub.status.busy": "2021-12-20T03:19:05.662688Z",
     "iopub.status.idle": "2021-12-20T03:19:07.04255Z",
     "shell.execute_reply": "2021-12-20T03:19:07.043039Z",
     "shell.execute_reply.started": "2021-10-20T05:50:09.175023Z"
    },
    "papermill": {
     "duration": 1.634797,
     "end_time": "2021-12-20T03:19:07.043215",
     "exception": false,
     "start_time": "2021-12-20T03:19:05.408418",
     "status": "completed"
    },
    "tags": []
   },
   "outputs": [
    {
     "data": {
      "image/png": "[encoded data removed]",
      "text/plain": [
       "<Figure size 576x684 with 2 Axes>"
      ]
     },
     "metadata": {
      "needs_background": "light"
     },
     "output_type": "display_data"
    }
   ],
   "source": [
    "shap.summary_plot(shap_values_xgb, Xtrain, feature_names = Xtrain.columns);"
   ]
  },
  {
   "cell_type": "markdown",
   "metadata": {
    "papermill": {
     "duration": 0.24549,
     "end_time": "2021-12-20T03:19:07.536623",
     "exception": false,
     "start_time": "2021-12-20T03:19:07.291133",
     "status": "completed"
    },
    "tags": []
   },
   "source": [
    "**Comment:**\n",
    ">- The horizontal axis represents the magnitude of the SHAP values for predictions.\n",
    ">- The vertical right axis represents the actual magnitude of a feature as it appears in the dataset and colors the points.\n",
    ">- We see that as GCS increases, its effect on the model is more positive."
   ]
  },
  {
   "cell_type": "code",
   "execution_count": 46,
   "metadata": {
    "execution": {
     "iopub.execute_input": "2021-12-20T03:19:08.036087Z",
     "iopub.status.busy": "2021-12-20T03:19:08.035274Z",
     "iopub.status.idle": "2021-12-20T03:19:47.626768Z",
     "shell.execute_reply": "2021-12-20T03:19:47.626227Z",
     "shell.execute_reply.started": "2021-10-20T05:50:09.180844Z"
    },
    "papermill": {
     "duration": 39.845295,
     "end_time": "2021-12-20T03:19:47.626911",
     "exception": false,
     "start_time": "2021-12-20T03:19:07.781616",
     "status": "completed"
    },
    "tags": []
   },
   "outputs": [
    {
     "name": "stdout",
     "output_type": "stream",
     "text": [
      "Wall time: 15.2 s\n"
     ]
    },
    {
     "data": {
      "text/plain": [
       "(3600, 22, 22)"
      ]
     },
     "execution_count": 46,
     "metadata": {},
     "output_type": "execute_result"
    }
   ],
   "source": [
    "%%time\n",
    "#SHAP interactions with XGB\n",
    "interactions_xgb = booster_xgb.predict(xgb.DMatrix(Xtrain, ytrain), pred_interactions = True)\n",
    "interactions_xgb.shape"
   ]
  },
  {
   "cell_type": "markdown",
   "metadata": {
    "papermill": {
     "duration": 0.247179,
     "end_time": "2021-12-20T03:19:48.121612",
     "exception": false,
     "start_time": "2021-12-20T03:19:47.874433",
     "status": "completed"
    },
    "tags": []
   },
   "source": [
    "## Top K Interactions between features"
   ]
  },
  {
   "cell_type": "code",
   "execution_count": 47,
   "metadata": {
    "_kg_hide-input": true,
    "execution": {
     "iopub.execute_input": "2021-12-20T03:19:49.116525Z",
     "iopub.status.busy": "2021-12-20T03:19:49.115896Z",
     "iopub.status.idle": "2021-12-20T03:19:49.128134Z",
     "shell.execute_reply": "2021-12-20T03:19:49.128567Z",
     "shell.execute_reply.started": "2021-10-20T05:50:09.182128Z"
    },
    "papermill": {
     "duration": 0.265733,
     "end_time": "2021-12-20T03:19:49.128742",
     "exception": false,
     "start_time": "2021-12-20T03:19:48.863009",
     "status": "completed"
    },
    "tags": []
   },
   "outputs": [],
   "source": [
    "def get_top_k_interactions(feature_names, shap_interactions, k):\n",
    "    # Get the mean absolute contribution for each feature interaction\n",
    "    aggregate_interactions = np.mean(np.abs(shap_interactions[:, :-1, :-1]), axis=0)\n",
    "    interactions = []\n",
    "    for i in range(aggregate_interactions.shape[0]):\n",
    "        for j in range(aggregate_interactions.shape[1]):\n",
    "            if j < i:\n",
    "                interactions.append(\n",
    "                    (\n",
    "                        feature_names[i] + \"-\" + feature_names[j],\n",
    "                        aggregate_interactions[i][j] * 2,\n",
    "                    )\n",
    "                )\n",
    "    # sort by magnitude\n",
    "    interactions.sort(key = lambda x: x[1], reverse = True)\n",
    "    interaction_features, interaction_values = map(tuple, zip(*interactions))\n",
    "\n",
    "    return interaction_features[:k], interaction_values[:k]\n",
    "\n",
    "\n",
    "top_10_inter_feats, top_10_inter_vals = get_top_k_interactions(Xtrain.columns, interactions_xgb, 10)"
   ]
  },
  {
   "cell_type": "code",
   "execution_count": 48,
   "metadata": {
    "execution": {
     "iopub.execute_input": "2021-12-20T03:19:49.625388Z",
     "iopub.status.busy": "2021-12-20T03:19:49.624826Z",
     "iopub.status.idle": "2021-12-20T03:19:49.629066Z",
     "shell.execute_reply": "2021-12-20T03:19:49.629631Z",
     "shell.execute_reply.started": "2021-10-20T05:50:09.18337Z"
    },
    "papermill": {
     "duration": 0.254771,
     "end_time": "2021-12-20T03:19:49.62979",
     "exception": false,
     "start_time": "2021-12-20T03:19:49.375019",
     "status": "completed"
    },
    "tags": []
   },
   "outputs": [
    {
     "data": {
      "text/plain": [
       "('GCS-Height',\n",
       " 'Na-NIDiasABP',\n",
       " 'Urine-Height',\n",
       " 'PaO2-SysABP',\n",
       " 'Temp-Height',\n",
       " 'NIDiasABP-Height',\n",
       " 'PaCO2-Height',\n",
       " 'SysABP-Height',\n",
       " 'GCS-FiO2',\n",
       " 'Height-Age')"
      ]
     },
     "execution_count": 48,
     "metadata": {},
     "output_type": "execute_result"
    }
   ],
   "source": [
    "top_10_inter_feats"
   ]
  },
  {
   "cell_type": "code",
   "execution_count": 49,
   "metadata": {
    "_kg_hide-input": true,
    "execution": {
     "iopub.execute_input": "2021-12-20T03:19:50.125735Z",
     "iopub.status.busy": "2021-12-20T03:19:50.124653Z",
     "iopub.status.idle": "2021-12-20T03:19:50.333917Z",
     "shell.execute_reply": "2021-12-20T03:19:50.334385Z",
     "shell.execute_reply.started": "2021-10-20T05:50:09.184586Z"
    },
    "papermill": {
     "duration": 0.45996,
     "end_time": "2021-12-20T03:19:50.334568",
     "exception": false,
     "start_time": "2021-12-20T03:19:49.874608",
     "status": "completed"
    },
    "tags": []
   },
   "outputs": [
    {
     "data": {
      "image/png": "[encoded data removed]",
      "text/plain": [
       "<Figure size 864x720 with 1 Axes>"
      ]
     },
     "metadata": {
      "needs_background": "light"
     },
     "output_type": "display_data"
    }
   ],
   "source": [
    "def plot_interaction_pairs(pairs, values):\n",
    "    plt.bar(pairs, values)\n",
    "    sns.set_theme(style=\"darkgrid\")\n",
    "    plt.xticks(rotation = 45)\n",
    "    plt.title('Top 10 Interations between Features')\n",
    "    plt.tight_layout()\n",
    "    plt.show()\n",
    "    \n",
    "top_10_inter_feats, top_10_inter_vals = get_top_k_interactions(Xtrain.columns, interactions_xgb, 10)\n",
    "\n",
    "plot_interaction_pairs(top_10_inter_feats, top_10_inter_vals)"
   ]
  },
  {
   "cell_type": "markdown",
   "metadata": {
    "papermill": {
     "duration": 0.246788,
     "end_time": "2021-12-20T03:19:50.828847",
     "exception": false,
     "start_time": "2021-12-20T03:19:50.582059",
     "status": "completed"
    },
    "tags": []
   },
   "source": [
    "- GCS feature interacts with most of the other feautures"
   ]
  },
  {
   "cell_type": "markdown",
   "metadata": {
    "papermill": {
     "duration": 0.250396,
     "end_time": "2021-12-20T03:19:51.326431",
     "exception": false,
     "start_time": "2021-12-20T03:19:51.076035",
     "status": "completed"
    },
    "tags": []
   },
   "source": [
    "# Local Interpretability"
   ]
  },
  {
   "cell_type": "code",
   "execution_count": 50,
   "metadata": {
    "execution": {
     "iopub.execute_input": "2021-12-20T03:19:51.868598Z",
     "iopub.status.busy": "2021-12-20T03:19:51.868021Z",
     "iopub.status.idle": "2021-12-20T03:19:51.872675Z",
     "shell.execute_reply": "2021-12-20T03:19:51.873186Z",
     "shell.execute_reply.started": "2021-10-20T05:50:09.185833Z"
    },
    "papermill": {
     "duration": 0.254327,
     "end_time": "2021-12-20T03:19:51.873365",
     "exception": false,
     "start_time": "2021-12-20T03:19:51.619038",
     "status": "completed"
    },
    "tags": []
   },
   "outputs": [
    {
     "data": {
      "text/plain": [
       "174"
      ]
     },
     "execution_count": 50,
     "metadata": {},
     "output_type": "execute_result"
    }
   ],
   "source": [
    "random_idx = np.random.randint(len(Xtrain))\n",
    "random_idx"
   ]
  },
  {
   "cell_type": "code",
   "execution_count": 51,
   "metadata": {
    "execution": {
     "iopub.execute_input": "2021-12-20T03:19:52.378208Z",
     "iopub.status.busy": "2021-12-20T03:19:52.377656Z",
     "iopub.status.idle": "2021-12-20T03:20:07.948015Z",
     "shell.execute_reply": "2021-12-20T03:20:07.947298Z",
     "shell.execute_reply.started": "2021-10-20T05:50:09.187158Z"
    },
    "papermill": {
     "duration": 15.82322,
     "end_time": "2021-12-20T03:20:07.948166",
     "exception": false,
     "start_time": "2021-12-20T03:19:52.124946",
     "status": "completed"
    },
    "tags": []
   },
   "outputs": [
    {
     "name": "stdout",
     "output_type": "stream",
     "text": [
      "Wall time: 9.72 s\n"
     ]
    }
   ],
   "source": [
    "%%time\n",
    "#Create a tree explainer\n",
    "xgb_explainer = shap.TreeExplainer(clf, Xtrain, feature_names = Xtrain.columns.tolist())\n",
    "\n",
    "#Recalculate SHAP values\n",
    "shap_explainer_values = xgb_explainer(Xtrain, ytrain)"
   ]
  },
  {
   "cell_type": "code",
   "execution_count": 52,
   "metadata": {
    "execution": {
     "iopub.execute_input": "2021-12-20T03:20:08.458958Z",
     "iopub.status.busy": "2021-12-20T03:20:08.457714Z",
     "iopub.status.idle": "2021-12-20T03:20:09.285826Z",
     "shell.execute_reply": "2021-12-20T03:20:09.286868Z",
     "shell.execute_reply.started": "2021-10-20T05:50:09.1884Z"
    },
    "papermill": {
     "duration": 1.087622,
     "end_time": "2021-12-20T03:20:09.287143",
     "exception": false,
     "start_time": "2021-12-20T03:20:08.199521",
     "status": "completed"
    },
    "tags": []
   },
   "outputs": [
    {
     "data": {
      "image/png": "[encoded data removed]",
      "text/plain": [
       "<Figure size 576x468 with 3 Axes>"
      ]
     },
     "metadata": {},
     "output_type": "display_data"
    }
   ],
   "source": [
    "shap.waterfall_plot(shap_explainer_values[random_idx])"
   ]
  },
  {
   "cell_type": "markdown",
   "metadata": {
    "papermill": {
     "duration": 0.255301,
     "end_time": "2021-12-20T03:20:09.815491",
     "exception": false,
     "start_time": "2021-12-20T03:20:09.56019",
     "status": "completed"
    },
    "tags": []
   },
   "source": [
    "**Comment:**\n",
    ">- The thin line in the middle denotes the mean prediction. The vertical axis shows the feature values of the random_idx. The bars represent how each feature property shifted the prediction from the mean prediction. The red bars represent positive shifts; the blue bars represent negative shifts."
   ]
  },
  {
   "cell_type": "code",
   "execution_count": 53,
   "metadata": {
    "execution": {
     "iopub.execute_input": "2021-12-20T03:20:10.336571Z",
     "iopub.status.busy": "2021-12-20T03:20:10.335924Z",
     "iopub.status.idle": "2021-12-20T03:20:11.069261Z",
     "shell.execute_reply": "2021-12-20T03:20:11.07012Z",
     "shell.execute_reply.started": "2021-10-20T05:50:09.189604Z"
    },
    "papermill": {
     "duration": 0.999458,
     "end_time": "2021-12-20T03:20:11.070404",
     "exception": false,
     "start_time": "2021-12-20T03:20:10.070946",
     "status": "completed"
    },
    "tags": []
   },
   "outputs": [
    {
     "data": {
      "image/png": "[encoded data removed]",
      "text/plain": [
       "<Figure size 576x468 with 3 Axes>"
      ]
     },
     "metadata": {},
     "output_type": "display_data"
    }
   ],
   "source": [
    "shap.waterfall_plot(shap_explainer_values[100])"
   ]
  },
  {
   "cell_type": "markdown",
   "metadata": {
    "papermill": {
     "duration": 0.253847,
     "end_time": "2021-12-20T03:20:11.618446",
     "exception": false,
     "start_time": "2021-12-20T03:20:11.364599",
     "status": "completed"
    },
    "tags": []
   },
   "source": [
    "**Comment:**\n",
    ">- The waterfall_plot above is same as the Shap Force plot\n",
    ">- Features in red push the prediction to postive - 1 while the features in blue makes the prediction move towards 0"
   ]
  },
  {
   "cell_type": "markdown",
   "metadata": {},
   "source": [
    "### Interpretability of GRU-D Model"
   ]
  },
  {
   "cell_type": "code",
   "execution_count": 57,
   "metadata": {},
   "outputs": [],
   "source": [
    "import torch\n",
    "import torch.nn as nn\n",
    "import torch.nn.functional as F\n",
    "from torch.autograd import Variable\n",
    "from tqdm import tqdm"
   ]
  },
  {
   "cell_type": "code",
   "execution_count": 58,
   "metadata": {},
   "outputs": [],
   "source": [
    "attr_list = [ \"RecordID\", \"Age\", \"Gender\", \"Height\", \"ICUType\", \"Weight\",\n",
    "                \"Albumin\", \"ALP\", \"ALT\", \"AST\", \"Bilirubin\", \"BUN\", \"Cholesterol\",\n",
    "                \"Creatinine\", \"DiasABP\", \"FiO2\", \"GCS\", \"Glucose\", \"HCO3\", \"HCT\",\n",
    "                \"HR\", \"K\", \"Lactate\", \"Mg\", \"MAP\", \"MechVent\", \"Na\", \"NIDiasABP\",\n",
    "                \"NIMAP\", \"NISysABP\", \"PaCO2\", \"PaO2\", \"pH\", \"Platelets\", \n",
    "                \"RespRate\", \"SaO2\", \"SysABP\", \"Temp\", \"TroponinI\", \"TroponinT\",\n",
    "                \"Urine\", \"WBC\"]"
   ]
  },
  {
   "cell_type": "code",
   "execution_count": 65,
   "metadata": {},
   "outputs": [],
   "source": [
    "import torch.utils.data as utils\n",
    "from sklearn.model_selection import train_test_split\n",
    "\n",
    "def get_dataloaders(dataset, outcomes, x_mean, BATCH_SIZE, max_feats=49, test_proportion=0.2):\n",
    "    train_data, test_data, train_label, test_label = train_test_split(dataset, outcomes, test_size=test_proportion, random_state=42)    \n",
    "    train_data, train_label = torch.Tensor(train_data), torch.Tensor(train_label)\n",
    "    #valid_data, valid_label = torch.Tensor(valid_data), torch.Tensor(valid_label)\n",
    "    test_data, test_label = torch.Tensor(test_data), torch.Tensor(test_label)\n",
    "\n",
    "    train_dataset = utils.TensorDataset(train_data, train_label)\n",
    "    #valid_dataset = utils.TensorDataset(valid_data, valid_label)\n",
    "    test_dataset = utils.TensorDataset(test_data, test_label)\n",
    "\n",
    "    train_dataloader = utils.DataLoader(train_dataset, batch_size = BATCH_SIZE, shuffle=True)\n",
    "    #valid_dataloader = utils.DataLoader(valid_dataset, batch_size = BATCH_SIZE, shuffle=True)\n",
    "    test_dataloader = utils.DataLoader(test_dataset, batch_size = BATCH_SIZE, shuffle=False)\n",
    "\n",
    "    print(\"\\t\\t train_dataset: \", train_data.shape)\n",
    "    print(\"\\t\\t test_data: \", test_data.shape)\n",
    "\n",
    "    x_mean = torch.mean(train_data[:, 0], axis = 0)\n",
    "\n",
    "    #return train_dataloader, valid_dataloader, test_dataloader, max_feats, x_mean\n",
    "    return train_dataloader, test_dataloader, max_feats, x_mean                                                   "
   ]
  },
  {
   "cell_type": "code",
   "execution_count": 66,
   "metadata": {},
   "outputs": [],
   "source": [
    "class GRU_decoder(nn.Module):\n",
    "    def __init__(self, input_size, hidden_size, output_size, gru_dropout=0.3, decoder_dropout=0.5, batch_first=True):\n",
    "        super(GRU_decoder, self).__init__()\n",
    "        self.gru = nn.GRU(input_size, hidden_size, \n",
    "                          batch_first=batch_first, dropout=gru_dropout)\n",
    "        self.hidden_size = hidden_size\n",
    "        self.decoder = nn.Sequential(\n",
    "                                    nn.BatchNorm1d(hidden_size),\n",
    "                                    nn.Linear(hidden_size, output_size),\n",
    "                                    nn.LogSoftmax()\n",
    "                                    )\n",
    "  \n",
    "    def forward(self, x):\n",
    "        _, hidden = self.gru(x)\n",
    "        output = self.decoder(hidden.view(batch_size, self.hidden_size))\n",
    "\n",
    "        return output"
   ]
  },
  {
   "cell_type": "code",
   "execution_count": 67,
   "metadata": {},
   "outputs": [],
   "source": [
    "class GRUD(nn.Module):\n",
    "    def __init__(self, input_size, hidden_size, output_size, gru_dropout=0.3, decoder_dropout=0.5, batch_first=True):\n",
    "        super(GRUD, self).__init__()\n",
    "        self.input_size = input_size\n",
    "        self.hidden_size = hidden_size\n",
    "        self.output_size = output_size\n",
    "        self.batch_first = batch_first\n",
    "        \n",
    "        # initialize weights and biases\n",
    "        self.W_r = nn.Parameter(torch.FloatTensor(input_size, hidden_size).normal_(0, 0.02))\n",
    "        self.U_r = nn.Parameter(torch.FloatTensor(hidden_size, hidden_size).normal_(0, 0.02))\n",
    "        self.V_r = nn.Parameter(torch.FloatTensor(input_size, hidden_size).normal_(0, 0.02))\n",
    "        self.b_r = nn.Parameter(torch.FloatTensor(hidden_size).zero_())\n",
    "\n",
    "        self.W_z = nn.Parameter(torch.FloatTensor(input_size, hidden_size).normal_(0, 0.02))\n",
    "        self.U_z = nn.Parameter(torch.FloatTensor(hidden_size, hidden_size).normal_(0, 0.02))\n",
    "        self.V_z = nn.Parameter(torch.FloatTensor(input_size, hidden_size).normal_(0, 0.02))\n",
    "        self.b_z = nn.Parameter(torch.FloatTensor(hidden_size).zero_())\n",
    "\n",
    "        self.W = nn.Parameter(torch.FloatTensor(input_size, hidden_size).normal_(0, 0.02))\n",
    "        self.U = nn.Parameter(torch.FloatTensor(hidden_size, hidden_size).normal_(0, 0.02))\n",
    "        self.V = nn.Parameter(torch.FloatTensor(input_size, hidden_size).normal_(0, 0.02))\n",
    "        self.b = nn.Parameter(torch.FloatTensor(hidden_size).zero_())\n",
    "\n",
    "        self.W_gamma_x = nn.Parameter(torch.FloatTensor(input_size).normal_(0, 0.02))\n",
    "        self.b_gamma_x = nn.Parameter(torch.FloatTensor(input_size).zero_())\n",
    "\n",
    "        self.W_gamma_h = nn.Parameter(torch.FloatTensor(input_size, hidden_size).normal_(0, 0.02))\n",
    "        self.b_gamma_h = nn.Parameter(torch.FloatTensor(hidden_size).zero_())\n",
    "        self.gru_dropout = gru_dropout\n",
    "        \n",
    "        self.decoder = nn.Linear(hidden_size, output_size)\n",
    "        self.bn = nn.BatchNorm1d(hidden_size)\n",
    "        self.decoder_dropout = nn.Dropout(p=decoder_dropout)\n",
    "        self.register_buffer('X_last_obs', torch.zeros(input_size))\n",
    "        \n",
    "    def forward(self, x, delta, m, h_t=None):\n",
    "        \"\"\"\n",
    "        \n",
    "        :param x: features input [batch_size, seq_len, num_features]\n",
    "        :param delta: time interval of feature observation [batch_size, seq_len, num_features]\n",
    "        :param m: masking vector {0, 1} of [batch_size, seq_len, num_features]\n",
    "        :param x_forward: place to replace missing values with [b, seqlen, numf]\n",
    "        :param h_t: initial hidden state [batch_size, seq_len, hidden_size]\n",
    "        :return: output [batch_size, output_size], hidden_state [batch_size, hidden_size]\n",
    "        \"\"\"\n",
    "        batch_size, seq_len, input_size = x.size()\n",
    "        \n",
    "        x_forward = getattr(self, 'X_last_obs')\n",
    "        \n",
    "        if h_t is None:\n",
    "            # initialize to zero\n",
    "            h_t = Variable(torch.FloatTensor(batch_size, self.hidden_size).zero_())\n",
    "            if x.is_cuda:\n",
    "                h_t = h_t.cuda()\n",
    "          \n",
    "        # compute decays\n",
    "        decay_x = delta*self.W_gamma_x + self.b_gamma_x\n",
    "        zeroes = Variable(torch.zeros(decay_x.size()))\n",
    "        if decay_x.is_cuda:\n",
    "            zeroes = zeroes.cuda()\n",
    "        gamma_x_t = torch.exp(-torch.max(zeroes, decay_x))\n",
    "            \n",
    "        decay_h = torch.matmul(m, self.W_gamma_h) + self.b_gamma_h\n",
    "        zeroes = Variable(torch.zeros(decay_h.size()))\n",
    "        if decay_h.is_cuda:\n",
    "            zeroes = zeroes.cuda()\n",
    "        gamma_x_h = torch.exp(-torch.max(zeroes, decay_h))\n",
    "            \n",
    "        # replace missing values\n",
    "        x_replace = decay_x * x_forward + (1-decay_x) * 0.001\n",
    "        x[m.byte()] = x_replace[m.byte()]\n",
    "                  \n",
    "        # dropout masks, one for each batch\n",
    "        dropout_rate = self.gru_dropout if self.training else 0.\n",
    "        \n",
    "        W_dropout = Variable((torch.FloatTensor(self.W.size()).uniform_() > dropout_rate).float())\n",
    "        U_dropout = Variable((torch.FloatTensor(self.U.size()).uniform_() > dropout_rate).float())\n",
    "        V_dropout = Variable((torch.FloatTensor(self.V.size()).uniform_() > dropout_rate).float())\n",
    "        \n",
    "        if decay_h.is_cuda:\n",
    "            W_dropout = W_dropout.cuda()\n",
    "            U_dropout = U_dropout.cuda()\n",
    "            V_dropout = V_dropout.cuda()\n",
    "        \n",
    "        for t in range(seq_len):\n",
    "            # decay h\n",
    "            update_range = Variable(torch.LongTensor(list(range(batch_size))))\n",
    "            if decay_h.is_cuda:\n",
    "                update_range = update_range.cuda()\n",
    "            h_t = h_t.clone().index_copy_(0, update_range, gamma_x_h[:batch_size,t,:] * h_t[:batch_size])\n",
    "\n",
    "            z_t = F.sigmoid(torch.matmul(x[:batch_size, t, :], self.W_z) + torch.matmul(h_t[:batch_size], self.U_z) + torch.matmul(1-m[:batch_size, t, :], self.V_z) + self.b_z)\n",
    "            r_t = F.sigmoid(torch.matmul(x[:batch_size, t, :], self.W_r) + torch.matmul(h_t[:batch_size], self.U_r) + torch.matmul(1-m[:batch_size, t, :], self.V_r) + self.b_r)\n",
    "            h_tilde_t = F.tanh(torch.matmul(x[:batch_size, t, :], self.W*W_dropout) + torch.matmul(h_t[:batch_size]*r_t, self.U*U_dropout) + torch.matmul(1-m[:batch_size, t, :], self.V*V_dropout) + self.b)\n",
    "            h_t = h_t.clone()\n",
    "            h_t = h_t.clone().index_copy_(0, update_range, (1 - z_t) * h_t[:batch_size] + z_t * h_tilde_t)\n",
    "            \n",
    "        if batch_size > 1:\n",
    "            h_t = self.bn(h_t)\n",
    "\n",
    "        output = F.log_softmax(self.decoder(self.decoder_dropout(h_t)), dim=-1)\n",
    "        \n",
    "        return output, h_t"
   ]
  },
  {
   "cell_type": "code",
   "execution_count": 68,
   "metadata": {},
   "outputs": [],
   "source": [
    "NUM_FEATURES = 49\n",
    "hidden_size = 64\n",
    "gru_dropout = 0.3\n",
    "decoder_dropout = 0.5\n",
    "output_size = 2\n",
    "\n",
    "model = GRUD(NUM_FEATURES, 49, output_size, gru_dropout, decoder_dropout)"
   ]
  },
  {
   "cell_type": "code",
   "execution_count": 72,
   "metadata": {},
   "outputs": [
    {
     "data": {
      "text/plain": [
       "GRUD(\n",
       "  (decoder): Linear(in_features=49, out_features=2, bias=True)\n",
       "  (bn): BatchNorm1d(49, eps=1e-05, momentum=0.1, affine=True, track_running_stats=True)\n",
       "  (decoder_dropout): Dropout(p=0.5, inplace=False)\n",
       ")"
      ]
     },
     "execution_count": 72,
     "metadata": {},
     "output_type": "execute_result"
    }
   ],
   "source": [
    "PATH = \"gru_d_60_EPOCHS\"\n",
    "model.load_state_dict(torch.load(PATH))\n",
    "model.eval()"
   ]
  },
  {
   "cell_type": "code",
   "execution_count": 73,
   "metadata": {},
   "outputs": [
    {
     "name": "stdout",
     "output_type": "stream",
     "text": [
      "\t\t labels shape:  (4000, 1)\n",
      "\t\t train_dataset:  torch.Size([3200, 3, 33, 49])\n",
      "\t\t test_data:  torch.Size([800, 3, 33, 49])\n"
     ]
    }
   ],
   "source": [
    "dataset = np.load(\"./data/dataset.npy\")\n",
    "outcomes = pd.read_csv('./data/Outcomes-a.txt')\n",
    "labels = np.load(\"./data/y1_out.npy\", allow_pickle=True)\n",
    "print(\"\\t\\t labels shape: \", labels.shape)\n",
    "xmean = np.load(\"./data/x_mean_aft_nor.npy\", allow_pickle=True)\n",
    "B_SIZE = 32\n",
    "\n",
    "#train_loader, valid_dataloader, test_loader, max_feats, X_mean = get_dataloaders(dataset, outcomes['In-hospital_death'].to_numpy(), xmean, BATCH_SIZE = B_SIZE)\n",
    "train_loader, test_loader, max_feats, X_mean = get_dataloaders(dataset, outcomes['In-hospital_death'].to_numpy(), xmean, BATCH_SIZE = B_SIZE)"
   ]
  },
  {
   "cell_type": "code",
   "execution_count": 75,
   "metadata": {},
   "outputs": [],
   "source": [
    "(data, label) = next(iter(train_loader))\n",
    "x, m, delta = data[:, 0], data[:, 1], data[:, 2]"
   ]
  },
  {
   "cell_type": "code",
   "execution_count": 79,
   "metadata": {},
   "outputs": [
    {
     "ename": "AssertionError",
     "evalue": "Unknown type passed as data object: <class 'torch.Tensor'>",
     "output_type": "error",
     "traceback": [
      "\u001b[1;31m---------------------------------------------------------------------------\u001b[0m",
      "\u001b[1;31mAssertionError\u001b[0m                            Traceback (most recent call last)",
      "\u001b[1;32m<ipython-input-79-f36a9e28296f>\u001b[0m in \u001b[0;36m<module>\u001b[1;34m\u001b[0m\n\u001b[0;32m      1\u001b[0m \u001b[0mindex\u001b[0m \u001b[1;33m=\u001b[0m \u001b[1;36m14\u001b[0m\u001b[1;33m\u001b[0m\u001b[1;33m\u001b[0m\u001b[0m\n\u001b[1;32m----> 2\u001b[1;33m \u001b[0mexplainer\u001b[0m \u001b[1;33m=\u001b[0m \u001b[0mshap\u001b[0m\u001b[1;33m.\u001b[0m\u001b[0mKernelExplainer\u001b[0m\u001b[1;33m(\u001b[0m\u001b[0mmodel\u001b[0m\u001b[1;33m,\u001b[0m \u001b[0mdata\u001b[0m\u001b[1;33m)\u001b[0m\u001b[1;33m\u001b[0m\u001b[1;33m\u001b[0m\u001b[0m\n\u001b[0m\u001b[0;32m      3\u001b[0m \u001b[0mshap_values\u001b[0m \u001b[1;33m=\u001b[0m \u001b[0mexplainer\u001b[0m\u001b[1;33m.\u001b[0m\u001b[0mshap_values\u001b[0m\u001b[1;33m(\u001b[0m\u001b[0mXtest\u001b[0m\u001b[1;33m)\u001b[0m\u001b[1;33m\u001b[0m\u001b[1;33m\u001b[0m\u001b[0m\n\u001b[0;32m      4\u001b[0m \u001b[1;31m#print(\"\\t\\t Probability prediction of the model: \", model.predict_proba(X_test[index].reshape(1, -1))[0])\u001b[0m\u001b[1;33m\u001b[0m\u001b[1;33m\u001b[0m\u001b[1;33m\u001b[0m\u001b[0m\n\u001b[0;32m      5\u001b[0m \u001b[0mprint\u001b[0m\u001b[1;33m(\u001b[0m\u001b[1;34m\"\\t\\t Prediction of the model: \"\u001b[0m\u001b[1;33m,\u001b[0m \u001b[0mmodel\u001b[0m\u001b[1;33m.\u001b[0m\u001b[0mpredict\u001b[0m\u001b[1;33m(\u001b[0m\u001b[0mXtest\u001b[0m\u001b[1;33m[\u001b[0m\u001b[0mindex\u001b[0m\u001b[1;33m]\u001b[0m\u001b[1;33m.\u001b[0m\u001b[0mreshape\u001b[0m\u001b[1;33m(\u001b[0m\u001b[1;36m1\u001b[0m\u001b[1;33m,\u001b[0m \u001b[1;33m-\u001b[0m\u001b[1;36m1\u001b[0m\u001b[1;33m)\u001b[0m\u001b[1;33m)\u001b[0m\u001b[1;33m[\u001b[0m\u001b[1;36m0\u001b[0m\u001b[1;33m]\u001b[0m\u001b[1;33m)\u001b[0m\u001b[1;33m\u001b[0m\u001b[1;33m\u001b[0m\u001b[0m\n",
      "\u001b[1;32m~\\anaconda3\\envs\\research\\lib\\site-packages\\shap\\explainers\\_kernel.py\u001b[0m in \u001b[0;36m__init__\u001b[1;34m(self, model, data, link, **kwargs)\u001b[0m\n\u001b[0;32m     65\u001b[0m         \u001b[0mself\u001b[0m\u001b[1;33m.\u001b[0m\u001b[0mkeep_index\u001b[0m \u001b[1;33m=\u001b[0m \u001b[0mkwargs\u001b[0m\u001b[1;33m.\u001b[0m\u001b[0mget\u001b[0m\u001b[1;33m(\u001b[0m\u001b[1;34m\"keep_index\"\u001b[0m\u001b[1;33m,\u001b[0m \u001b[1;32mFalse\u001b[0m\u001b[1;33m)\u001b[0m\u001b[1;33m\u001b[0m\u001b[1;33m\u001b[0m\u001b[0m\n\u001b[0;32m     66\u001b[0m         \u001b[0mself\u001b[0m\u001b[1;33m.\u001b[0m\u001b[0mkeep_index_ordered\u001b[0m \u001b[1;33m=\u001b[0m \u001b[0mkwargs\u001b[0m\u001b[1;33m.\u001b[0m\u001b[0mget\u001b[0m\u001b[1;33m(\u001b[0m\u001b[1;34m\"keep_index_ordered\"\u001b[0m\u001b[1;33m,\u001b[0m \u001b[1;32mFalse\u001b[0m\u001b[1;33m)\u001b[0m\u001b[1;33m\u001b[0m\u001b[1;33m\u001b[0m\u001b[0m\n\u001b[1;32m---> 67\u001b[1;33m         \u001b[0mself\u001b[0m\u001b[1;33m.\u001b[0m\u001b[0mdata\u001b[0m \u001b[1;33m=\u001b[0m \u001b[0mconvert_to_data\u001b[0m\u001b[1;33m(\u001b[0m\u001b[0mdata\u001b[0m\u001b[1;33m,\u001b[0m \u001b[0mkeep_index\u001b[0m\u001b[1;33m=\u001b[0m\u001b[0mself\u001b[0m\u001b[1;33m.\u001b[0m\u001b[0mkeep_index\u001b[0m\u001b[1;33m)\u001b[0m\u001b[1;33m\u001b[0m\u001b[1;33m\u001b[0m\u001b[0m\n\u001b[0m\u001b[0;32m     68\u001b[0m         \u001b[0mmodel_null\u001b[0m \u001b[1;33m=\u001b[0m \u001b[0mmatch_model_to_data\u001b[0m\u001b[1;33m(\u001b[0m\u001b[0mself\u001b[0m\u001b[1;33m.\u001b[0m\u001b[0mmodel\u001b[0m\u001b[1;33m,\u001b[0m \u001b[0mself\u001b[0m\u001b[1;33m.\u001b[0m\u001b[0mdata\u001b[0m\u001b[1;33m)\u001b[0m\u001b[1;33m\u001b[0m\u001b[1;33m\u001b[0m\u001b[0m\n\u001b[0;32m     69\u001b[0m \u001b[1;33m\u001b[0m\u001b[0m\n",
      "\u001b[1;32m~\\anaconda3\\envs\\research\\lib\\site-packages\\shap\\utils\\_legacy.py\u001b[0m in \u001b[0;36mconvert_to_data\u001b[1;34m(val, keep_index)\u001b[0m\n\u001b[0;32m    199\u001b[0m         \u001b[1;32mreturn\u001b[0m \u001b[0mSparseData\u001b[0m\u001b[1;33m(\u001b[0m\u001b[0mval\u001b[0m\u001b[1;33m)\u001b[0m\u001b[1;33m\u001b[0m\u001b[1;33m\u001b[0m\u001b[0m\n\u001b[0;32m    200\u001b[0m     \u001b[1;32melse\u001b[0m\u001b[1;33m:\u001b[0m\u001b[1;33m\u001b[0m\u001b[1;33m\u001b[0m\u001b[0m\n\u001b[1;32m--> 201\u001b[1;33m         \u001b[1;32massert\u001b[0m \u001b[1;32mFalse\u001b[0m\u001b[1;33m,\u001b[0m \u001b[1;34m\"Unknown type passed as data object: \"\u001b[0m\u001b[1;33m+\u001b[0m\u001b[0mstr\u001b[0m\u001b[1;33m(\u001b[0m\u001b[0mtype\u001b[0m\u001b[1;33m(\u001b[0m\u001b[0mval\u001b[0m\u001b[1;33m)\u001b[0m\u001b[1;33m)\u001b[0m\u001b[1;33m\u001b[0m\u001b[1;33m\u001b[0m\u001b[0m\n\u001b[0m\u001b[0;32m    202\u001b[0m \u001b[1;33m\u001b[0m\u001b[0m\n\u001b[0;32m    203\u001b[0m \u001b[1;32mclass\u001b[0m \u001b[0mLink\u001b[0m\u001b[1;33m:\u001b[0m\u001b[1;33m\u001b[0m\u001b[1;33m\u001b[0m\u001b[0m\n",
      "\u001b[1;31mAssertionError\u001b[0m: Unknown type passed as data object: <class 'torch.Tensor'>"
     ]
    }
   ],
   "source": [
    "index = 14\n",
    "explainer = shap.KernelExplainer(model, data)\n",
    "shap_values = explainer.shap_values(Xtest)\n",
    "#print(\"\\t\\t Probability prediction of the model: \", model.predict_proba(X_test[index].reshape(1, -1))[0])\n",
    "print(\"\\t\\t Prediction of the model: \", model.predict(Xtest[index].reshape(1, -1))[0])\n",
    "\n",
    "print(\"\\t\\t Contribution of all features: \", np.sum(shap_values[0][index]))\n",
    "shap.force_plot(explainer.expected_value[0], shap_values[0][index,:], X_test_DF.iloc[index])"
   ]
  },
  {
   "cell_type": "code",
   "execution_count": null,
   "metadata": {},
   "outputs": [],
   "source": []
  }
 ],
 "metadata": {
  "kernelspec": {
   "display_name": "research",
   "language": "python",
   "name": "research"
  },
  "language_info": {
   "codemirror_mode": {
    "name": "ipython",
    "version": 3
   },
   "file_extension": ".py",
   "mimetype": "text/x-python",
   "name": "python",
   "nbconvert_exporter": "python",
   "pygments_lexer": "ipython3",
   "version": "3.8.5"
  },
  "papermill": {
   "default_parameters": {},
   "duration": 203.086259,
   "end_time": "2021-12-20T03:20:15.331316",
   "environment_variables": {},
   "exception": null,
   "input_path": "__notebook__.ipynb",
   "output_path": "__notebook__.ipynb",
   "parameters": {},
   "start_time": "2021-12-20T03:16:52.245057",
   "version": "2.3.3"
  }
 },
 "nbformat": 4,
 "nbformat_minor": 5
}
